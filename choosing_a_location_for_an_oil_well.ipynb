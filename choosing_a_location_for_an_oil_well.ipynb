{
 "cells": [
  {
   "cell_type": "markdown",
   "metadata": {},
   "source": [
    "# Выбор локации для скважины"
   ]
  },
  {
   "cell_type": "markdown",
   "metadata": {},
   "source": [
    "Допустим, вы работаете в добывающей компании «ГлавРосГосНефть». Нужно решить, где бурить новую скважину.\n",
    "\n",
    "Вам предоставлены пробы нефти в трёх регионах: в каждом 10 000 месторождений, где измерили качество нефти и объём её запасов. Постройте модель машинного обучения, которая поможет определить регион, где добыча принесёт наибольшую прибыль. Проанализируйте возможную прибыль и риски техникой *Bootstrap.*\n",
    "\n",
    "Шаги для выбора локации:\n",
    "\n",
    "- В избранном регионе ищут месторождения, для каждого определяют значения признаков;\n",
    "- Строят модель и оценивают объём запасов;\n",
    "- Выбирают месторождения с самым высокими оценками значений. Количество месторождений зависит от бюджета компании и стоимости разработки одной скважины;\n",
    "- Прибыль равна суммарной прибыли отобранных месторождений."
   ]
  },
  {
   "cell_type": "markdown",
   "metadata": {},
   "source": [
    "## Загрузка и подготовка данных"
   ]
  },
  {
   "cell_type": "code",
   "execution_count": 1,
   "metadata": {},
   "outputs": [],
   "source": [
    "import pandas as pd\n",
    "from sklearn.linear_model import LinearRegression\n",
    "from sklearn.model_selection import train_test_split\n",
    "from sklearn.metrics import mean_squared_error\n",
    "import numpy as np"
   ]
  },
  {
   "cell_type": "code",
   "execution_count": 2,
   "metadata": {},
   "outputs": [
    {
     "data": {
      "text/html": [
       "<div>\n",
       "<style scoped>\n",
       "    .dataframe tbody tr th:only-of-type {\n",
       "        vertical-align: middle;\n",
       "    }\n",
       "\n",
       "    .dataframe tbody tr th {\n",
       "        vertical-align: top;\n",
       "    }\n",
       "\n",
       "    .dataframe thead th {\n",
       "        text-align: right;\n",
       "    }\n",
       "</style>\n",
       "<table border=\"1\" class=\"dataframe\">\n",
       "  <thead>\n",
       "    <tr style=\"text-align: right;\">\n",
       "      <th></th>\n",
       "      <th>id</th>\n",
       "      <th>f0</th>\n",
       "      <th>f1</th>\n",
       "      <th>f2</th>\n",
       "      <th>product</th>\n",
       "    </tr>\n",
       "  </thead>\n",
       "  <tbody>\n",
       "    <tr>\n",
       "      <td>0</td>\n",
       "      <td>txEyH</td>\n",
       "      <td>0.705745</td>\n",
       "      <td>-0.497823</td>\n",
       "      <td>1.221170</td>\n",
       "      <td>105.280062</td>\n",
       "    </tr>\n",
       "    <tr>\n",
       "      <td>1</td>\n",
       "      <td>2acmU</td>\n",
       "      <td>1.334711</td>\n",
       "      <td>-0.340164</td>\n",
       "      <td>4.365080</td>\n",
       "      <td>73.037750</td>\n",
       "    </tr>\n",
       "    <tr>\n",
       "      <td>2</td>\n",
       "      <td>409Wp</td>\n",
       "      <td>1.022732</td>\n",
       "      <td>0.151990</td>\n",
       "      <td>1.419926</td>\n",
       "      <td>85.265647</td>\n",
       "    </tr>\n",
       "    <tr>\n",
       "      <td>3</td>\n",
       "      <td>iJLyR</td>\n",
       "      <td>-0.032172</td>\n",
       "      <td>0.139033</td>\n",
       "      <td>2.978566</td>\n",
       "      <td>168.620776</td>\n",
       "    </tr>\n",
       "    <tr>\n",
       "      <td>4</td>\n",
       "      <td>Xdl7t</td>\n",
       "      <td>1.988431</td>\n",
       "      <td>0.155413</td>\n",
       "      <td>4.751769</td>\n",
       "      <td>154.036647</td>\n",
       "    </tr>\n",
       "    <tr>\n",
       "      <td>...</td>\n",
       "      <td>...</td>\n",
       "      <td>...</td>\n",
       "      <td>...</td>\n",
       "      <td>...</td>\n",
       "      <td>...</td>\n",
       "    </tr>\n",
       "    <tr>\n",
       "      <td>99995</td>\n",
       "      <td>DLsed</td>\n",
       "      <td>0.971957</td>\n",
       "      <td>0.370953</td>\n",
       "      <td>6.075346</td>\n",
       "      <td>110.744026</td>\n",
       "    </tr>\n",
       "    <tr>\n",
       "      <td>99996</td>\n",
       "      <td>QKivN</td>\n",
       "      <td>1.392429</td>\n",
       "      <td>-0.382606</td>\n",
       "      <td>1.273912</td>\n",
       "      <td>122.346843</td>\n",
       "    </tr>\n",
       "    <tr>\n",
       "      <td>99997</td>\n",
       "      <td>3rnvd</td>\n",
       "      <td>1.029585</td>\n",
       "      <td>0.018787</td>\n",
       "      <td>-1.348308</td>\n",
       "      <td>64.375443</td>\n",
       "    </tr>\n",
       "    <tr>\n",
       "      <td>99998</td>\n",
       "      <td>7kl59</td>\n",
       "      <td>0.998163</td>\n",
       "      <td>-0.528582</td>\n",
       "      <td>1.583869</td>\n",
       "      <td>74.040764</td>\n",
       "    </tr>\n",
       "    <tr>\n",
       "      <td>99999</td>\n",
       "      <td>1CWhH</td>\n",
       "      <td>1.764754</td>\n",
       "      <td>-0.266417</td>\n",
       "      <td>5.722849</td>\n",
       "      <td>149.633246</td>\n",
       "    </tr>\n",
       "  </tbody>\n",
       "</table>\n",
       "<p>100000 rows × 5 columns</p>\n",
       "</div>"
      ],
      "text/plain": [
       "          id        f0        f1        f2     product\n",
       "0      txEyH  0.705745 -0.497823  1.221170  105.280062\n",
       "1      2acmU  1.334711 -0.340164  4.365080   73.037750\n",
       "2      409Wp  1.022732  0.151990  1.419926   85.265647\n",
       "3      iJLyR -0.032172  0.139033  2.978566  168.620776\n",
       "4      Xdl7t  1.988431  0.155413  4.751769  154.036647\n",
       "...      ...       ...       ...       ...         ...\n",
       "99995  DLsed  0.971957  0.370953  6.075346  110.744026\n",
       "99996  QKivN  1.392429 -0.382606  1.273912  122.346843\n",
       "99997  3rnvd  1.029585  0.018787 -1.348308   64.375443\n",
       "99998  7kl59  0.998163 -0.528582  1.583869   74.040764\n",
       "99999  1CWhH  1.764754 -0.266417  5.722849  149.633246\n",
       "\n",
       "[100000 rows x 5 columns]"
      ]
     },
     "execution_count": 2,
     "metadata": {},
     "output_type": "execute_result"
    }
   ],
   "source": [
    "region_0 = pd.read_csv('/datasets/geo_data_0.csv')\n",
    "region_0"
   ]
  },
  {
   "cell_type": "code",
   "execution_count": 3,
   "metadata": {},
   "outputs": [
    {
     "data": {
      "text/html": [
       "<div>\n",
       "<style scoped>\n",
       "    .dataframe tbody tr th:only-of-type {\n",
       "        vertical-align: middle;\n",
       "    }\n",
       "\n",
       "    .dataframe tbody tr th {\n",
       "        vertical-align: top;\n",
       "    }\n",
       "\n",
       "    .dataframe thead th {\n",
       "        text-align: right;\n",
       "    }\n",
       "</style>\n",
       "<table border=\"1\" class=\"dataframe\">\n",
       "  <thead>\n",
       "    <tr style=\"text-align: right;\">\n",
       "      <th></th>\n",
       "      <th>id</th>\n",
       "      <th>f0</th>\n",
       "      <th>f1</th>\n",
       "      <th>f2</th>\n",
       "      <th>product</th>\n",
       "    </tr>\n",
       "  </thead>\n",
       "  <tbody>\n",
       "    <tr>\n",
       "      <td>0</td>\n",
       "      <td>kBEdx</td>\n",
       "      <td>-15.001348</td>\n",
       "      <td>-8.276000</td>\n",
       "      <td>-0.005876</td>\n",
       "      <td>3.179103</td>\n",
       "    </tr>\n",
       "    <tr>\n",
       "      <td>1</td>\n",
       "      <td>62mP7</td>\n",
       "      <td>14.272088</td>\n",
       "      <td>-3.475083</td>\n",
       "      <td>0.999183</td>\n",
       "      <td>26.953261</td>\n",
       "    </tr>\n",
       "    <tr>\n",
       "      <td>2</td>\n",
       "      <td>vyE1P</td>\n",
       "      <td>6.263187</td>\n",
       "      <td>-5.948386</td>\n",
       "      <td>5.001160</td>\n",
       "      <td>134.766305</td>\n",
       "    </tr>\n",
       "    <tr>\n",
       "      <td>3</td>\n",
       "      <td>KcrkZ</td>\n",
       "      <td>-13.081196</td>\n",
       "      <td>-11.506057</td>\n",
       "      <td>4.999415</td>\n",
       "      <td>137.945408</td>\n",
       "    </tr>\n",
       "    <tr>\n",
       "      <td>4</td>\n",
       "      <td>AHL4O</td>\n",
       "      <td>12.702195</td>\n",
       "      <td>-8.147433</td>\n",
       "      <td>5.004363</td>\n",
       "      <td>134.766305</td>\n",
       "    </tr>\n",
       "    <tr>\n",
       "      <td>...</td>\n",
       "      <td>...</td>\n",
       "      <td>...</td>\n",
       "      <td>...</td>\n",
       "      <td>...</td>\n",
       "      <td>...</td>\n",
       "    </tr>\n",
       "    <tr>\n",
       "      <td>99995</td>\n",
       "      <td>QywKC</td>\n",
       "      <td>9.535637</td>\n",
       "      <td>-6.878139</td>\n",
       "      <td>1.998296</td>\n",
       "      <td>53.906522</td>\n",
       "    </tr>\n",
       "    <tr>\n",
       "      <td>99996</td>\n",
       "      <td>ptvty</td>\n",
       "      <td>-10.160631</td>\n",
       "      <td>-12.558096</td>\n",
       "      <td>5.005581</td>\n",
       "      <td>137.945408</td>\n",
       "    </tr>\n",
       "    <tr>\n",
       "      <td>99997</td>\n",
       "      <td>09gWa</td>\n",
       "      <td>-7.378891</td>\n",
       "      <td>-3.084104</td>\n",
       "      <td>4.998651</td>\n",
       "      <td>137.945408</td>\n",
       "    </tr>\n",
       "    <tr>\n",
       "      <td>99998</td>\n",
       "      <td>rqwUm</td>\n",
       "      <td>0.665714</td>\n",
       "      <td>-6.152593</td>\n",
       "      <td>1.000146</td>\n",
       "      <td>30.132364</td>\n",
       "    </tr>\n",
       "    <tr>\n",
       "      <td>99999</td>\n",
       "      <td>relB0</td>\n",
       "      <td>-3.426139</td>\n",
       "      <td>-7.794274</td>\n",
       "      <td>-0.003299</td>\n",
       "      <td>3.179103</td>\n",
       "    </tr>\n",
       "  </tbody>\n",
       "</table>\n",
       "<p>100000 rows × 5 columns</p>\n",
       "</div>"
      ],
      "text/plain": [
       "          id         f0         f1        f2     product\n",
       "0      kBEdx -15.001348  -8.276000 -0.005876    3.179103\n",
       "1      62mP7  14.272088  -3.475083  0.999183   26.953261\n",
       "2      vyE1P   6.263187  -5.948386  5.001160  134.766305\n",
       "3      KcrkZ -13.081196 -11.506057  4.999415  137.945408\n",
       "4      AHL4O  12.702195  -8.147433  5.004363  134.766305\n",
       "...      ...        ...        ...       ...         ...\n",
       "99995  QywKC   9.535637  -6.878139  1.998296   53.906522\n",
       "99996  ptvty -10.160631 -12.558096  5.005581  137.945408\n",
       "99997  09gWa  -7.378891  -3.084104  4.998651  137.945408\n",
       "99998  rqwUm   0.665714  -6.152593  1.000146   30.132364\n",
       "99999  relB0  -3.426139  -7.794274 -0.003299    3.179103\n",
       "\n",
       "[100000 rows x 5 columns]"
      ]
     },
     "execution_count": 3,
     "metadata": {},
     "output_type": "execute_result"
    }
   ],
   "source": [
    "region_1 = pd.read_csv('/datasets/geo_data_1.csv')\n",
    "region_1"
   ]
  },
  {
   "cell_type": "code",
   "execution_count": 4,
   "metadata": {},
   "outputs": [],
   "source": [
    "region_2 = pd.read_csv('/datasets/geo_data_2.csv')\n"
   ]
  },
  {
   "cell_type": "markdown",
   "metadata": {},
   "source": [
    "Проверка на пропущенный значения"
   ]
  },
  {
   "cell_type": "code",
   "execution_count": 5,
   "metadata": {},
   "outputs": [
    {
     "data": {
      "text/plain": [
       "id         0\n",
       "f0         0\n",
       "f1         0\n",
       "f2         0\n",
       "product    0\n",
       "dtype: int64"
      ]
     },
     "execution_count": 5,
     "metadata": {},
     "output_type": "execute_result"
    }
   ],
   "source": [
    "region_0.isna().sum()"
   ]
  },
  {
   "cell_type": "code",
   "execution_count": 6,
   "metadata": {},
   "outputs": [
    {
     "data": {
      "text/plain": [
       "id         0\n",
       "f0         0\n",
       "f1         0\n",
       "f2         0\n",
       "product    0\n",
       "dtype: int64"
      ]
     },
     "execution_count": 6,
     "metadata": {},
     "output_type": "execute_result"
    }
   ],
   "source": [
    "region_1.isna().sum()"
   ]
  },
  {
   "cell_type": "code",
   "execution_count": 7,
   "metadata": {},
   "outputs": [
    {
     "data": {
      "text/plain": [
       "id         0\n",
       "f0         0\n",
       "f1         0\n",
       "f2         0\n",
       "product    0\n",
       "dtype: int64"
      ]
     },
     "execution_count": 7,
     "metadata": {},
     "output_type": "execute_result"
    }
   ],
   "source": [
    "region_2.isna().sum()"
   ]
  },
  {
   "cell_type": "markdown",
   "metadata": {},
   "source": [
    "Проверка на дубликаты"
   ]
  },
  {
   "cell_type": "code",
   "execution_count": 8,
   "metadata": {},
   "outputs": [
    {
     "data": {
      "text/plain": [
       "[0, 0, 0]"
      ]
     },
     "execution_count": 8,
     "metadata": {},
     "output_type": "execute_result"
    }
   ],
   "source": [
    "li = [region_0, region_1, region_2]\n",
    "def check_duplicates(sheet):\n",
    "    result = []\n",
    "    for i in sheet:\n",
    "        if i.duplicated().sum() == 0:\n",
    "            result.append(0) #Если в итоговом списке 0, значит дубликаты отсутствуют\n",
    "        else:\n",
    "            result.append(1)\n",
    "    return result\n",
    "check_duplicates(li)"
   ]
  },
  {
   "cell_type": "code",
   "execution_count": 9,
   "metadata": {
    "scrolled": true
   },
   "outputs": [
    {
     "name": "stdout",
     "output_type": "stream",
     "text": [
      "Inforamtion about region_data type 0\n",
      "<class 'pandas.core.frame.DataFrame'>\n",
      "RangeIndex: 100000 entries, 0 to 99999\n",
      "Data columns (total 5 columns):\n",
      "id         100000 non-null object\n",
      "f0         100000 non-null float64\n",
      "f1         100000 non-null float64\n",
      "f2         100000 non-null float64\n",
      "product    100000 non-null float64\n",
      "dtypes: float64(4), object(1)\n",
      "memory usage: 3.8+ MB\n",
      "None\n",
      "Inforamtion about region_data type 1\n",
      "<class 'pandas.core.frame.DataFrame'>\n",
      "RangeIndex: 100000 entries, 0 to 99999\n",
      "Data columns (total 5 columns):\n",
      "id         100000 non-null object\n",
      "f0         100000 non-null float64\n",
      "f1         100000 non-null float64\n",
      "f2         100000 non-null float64\n",
      "product    100000 non-null float64\n",
      "dtypes: float64(4), object(1)\n",
      "memory usage: 3.8+ MB\n",
      "None\n",
      "Inforamtion about region_data type 2\n",
      "<class 'pandas.core.frame.DataFrame'>\n",
      "RangeIndex: 100000 entries, 0 to 99999\n",
      "Data columns (total 5 columns):\n",
      "id         100000 non-null object\n",
      "f0         100000 non-null float64\n",
      "f1         100000 non-null float64\n",
      "f2         100000 non-null float64\n",
      "product    100000 non-null float64\n",
      "dtypes: float64(4), object(1)\n",
      "memory usage: 3.8+ MB\n",
      "None\n"
     ]
    }
   ],
   "source": [
    "for i in range(len(li)):\n",
    "    print('Inforamtion about region_data type', i)\n",
    "    print(li[i].info())"
   ]
  },
  {
   "cell_type": "markdown",
   "metadata": {},
   "source": [
    "Из данных нужно исключить признак, который не влияет на целевой, поэтому удалим из всех таблиц столбец id"
   ]
  },
  {
   "cell_type": "code",
   "execution_count": 10,
   "metadata": {},
   "outputs": [],
   "source": [
    "region_0 = region_0.drop('id', axis=1)\n",
    "region_1 = region_1.drop('id', axis=1)\n",
    "region_2 = region_2.drop('id', axis=1)"
   ]
  },
  {
   "cell_type": "markdown",
   "metadata": {},
   "source": [
    "Подгдотовка признаков для каждого из регионов"
   ]
  },
  {
   "cell_type": "code",
   "execution_count": 11,
   "metadata": {},
   "outputs": [],
   "source": [
    "features_0 = region_0.drop('product', axis=1)\n",
    "target_0 = region_0['product']\n",
    "features_1 = region_1.drop('product', axis=1)\n",
    "target_1 = region_1['product']\n",
    "features_2 = region_2.drop('product', axis=1)\n",
    "target_2 = region_2['product']"
   ]
  },
  {
   "cell_type": "markdown",
   "metadata": {},
   "source": [
    "Разбиение на валидационную и обучающую выборки"
   ]
  },
  {
   "cell_type": "code",
   "execution_count": 12,
   "metadata": {},
   "outputs": [],
   "source": [
    "features_train_0, features_valid_0, target_train_0, target_valid_0 = train_test_split(\n",
    "    features_0, target_0, random_state=12345, test_size=0.25)"
   ]
  },
  {
   "cell_type": "code",
   "execution_count": 13,
   "metadata": {},
   "outputs": [],
   "source": [
    "features_train_0 = features_train_0.reset_index(drop=True)\n",
    "features_valid_0 = features_valid_0.reset_index(drop=True)\n",
    "target_train_0 = target_train_0.reset_index(drop=True)\n",
    "target_valid_0 = target_valid_0.reset_index(drop=True)"
   ]
  },
  {
   "cell_type": "code",
   "execution_count": 14,
   "metadata": {},
   "outputs": [],
   "source": [
    "features_train_1, features_valid_1, target_train_1, target_valid_1 = train_test_split(\n",
    "    features_1, target_1, random_state=12345, test_size=0.25)"
   ]
  },
  {
   "cell_type": "code",
   "execution_count": 15,
   "metadata": {},
   "outputs": [],
   "source": [
    "features_train_1 = features_train_1.reset_index(drop=True)\n",
    "features_valid_1 = features_valid_1.reset_index(drop=True)\n",
    "target_train_1 = target_train_1.reset_index(drop=True)\n",
    "target_valid_1 = target_valid_1.reset_index(drop=True)"
   ]
  },
  {
   "cell_type": "code",
   "execution_count": 16,
   "metadata": {},
   "outputs": [],
   "source": [
    "features_train_2, features_valid_2, target_train_2, target_valid_2 = train_test_split(\n",
    "    features_2, target_2, random_state=12345, test_size=0.25)"
   ]
  },
  {
   "cell_type": "code",
   "execution_count": 17,
   "metadata": {},
   "outputs": [],
   "source": [
    "features_train_2 = features_train_2.reset_index(drop=True)\n",
    "features_valid_2 = features_valid_2.reset_index(drop=True)\n",
    "target_train_2 = target_train_2.reset_index(drop=True)\n",
    "target_valid_2 = target_valid_2.reset_index(drop=True)"
   ]
  },
  {
   "cell_type": "markdown",
   "metadata": {},
   "source": [
    "## Обучение и проверка модели"
   ]
  },
  {
   "cell_type": "code",
   "execution_count": 18,
   "metadata": {},
   "outputs": [],
   "source": [
    "def region_information(features_train, target_train, features_valid, target_valid):\n",
    "    model = LinearRegression()\n",
    "    model.fit(features_train, target_train)\n",
    "    predictions = model.predict(features_valid)\n",
    "    mse = mean_squared_error(predictions, target_valid)\n",
    "    rmse = np.sqrt(mse)\n",
    "    average_reserve = predictions.mean()\n",
    "    return predictions, rmse, average_reserve"
   ]
  },
  {
   "cell_type": "code",
   "execution_count": 19,
   "metadata": {},
   "outputs": [],
   "source": [
    "predictions_0, rmse_0, average_reserve_0 = region_information(\n",
    "    features_train_0, target_train_0, features_valid_0, target_valid_0)"
   ]
  },
  {
   "cell_type": "code",
   "execution_count": 20,
   "metadata": {},
   "outputs": [],
   "source": [
    "predictions_1, rmse_1, average_reserve_1 = region_information(\n",
    "    features_train_1, target_train_1, features_valid_1, target_valid_1)"
   ]
  },
  {
   "cell_type": "code",
   "execution_count": 21,
   "metadata": {},
   "outputs": [],
   "source": [
    "predictions_2, rmse_2, average_reserve_2 = region_information(\n",
    "    features_train_2, target_train_2, features_valid_2, target_valid_2)"
   ]
  },
  {
   "cell_type": "markdown",
   "metadata": {},
   "source": [
    "Информация о регионе 0"
   ]
  },
  {
   "cell_type": "code",
   "execution_count": 22,
   "metadata": {},
   "outputs": [
    {
     "name": "stdout",
     "output_type": "stream",
     "text": [
      "Information about region_0:\n",
      "Average reserve in region_0: 92.59256778438038\n",
      "Rmse in region_0: 37.5794217150813\n"
     ]
    }
   ],
   "source": [
    "print('Information about region_0:')\n",
    "print('Average reserve in region_0: {}'.format(average_reserve_0))\n",
    "print('Rmse in region_0: {}'.format(rmse_0))"
   ]
  },
  {
   "cell_type": "markdown",
   "metadata": {},
   "source": [
    "Информация о регионе 1"
   ]
  },
  {
   "cell_type": "code",
   "execution_count": 23,
   "metadata": {},
   "outputs": [
    {
     "name": "stdout",
     "output_type": "stream",
     "text": [
      "Information about region_1:\n",
      "Average reserve in region_1: 68.728546895446\n",
      "Rmse in region_1: 0.893099286775616\n"
     ]
    }
   ],
   "source": [
    "print('Information about region_1:')\n",
    "print('Average reserve in region_1: {}'.format(average_reserve_1))\n",
    "print('Rmse in region_1: {}'.format(rmse_1))"
   ]
  },
  {
   "cell_type": "markdown",
   "metadata": {},
   "source": [
    "Информация о регионе 2"
   ]
  },
  {
   "cell_type": "code",
   "execution_count": 24,
   "metadata": {},
   "outputs": [
    {
     "name": "stdout",
     "output_type": "stream",
     "text": [
      "Information about region_2:\n",
      "Average reserve in region_2: 94.96504596800489\n",
      "Rmse in region_2: 40.02970873393434\n"
     ]
    }
   ],
   "source": [
    "print('Information about region_2:')\n",
    "print('Average reserve in region_2: {}'.format(average_reserve_2))\n",
    "print('Rmse in region_2: {}'.format(rmse_2))"
   ]
  },
  {
   "cell_type": "markdown",
   "metadata": {},
   "source": [
    "Вывод: Самые большие средние запасы предсказанного сырья находятся в регионе 2, чуть меньше запасов в регионе 0, однако в каждом из этих регионов показатель rmse очень велик, в то время как в регионе 1 средний объем предсказанных запасов меньше, но они гораздо точнее, более того, считая показатель rmse погрешностью, можно сказать, что минимальные предсказанные запасы в регионе 1 больше, чем минимальные предсказанные запасы в регионе 0 и в регионе2"
   ]
  },
  {
   "cell_type": "markdown",
   "metadata": {},
   "source": [
    "## Подготовка к расчёту прибыли"
   ]
  },
  {
   "cell_type": "markdown",
   "metadata": {},
   "source": [
    "Расчет достаточного объема сырья для безубыточной разработки новой скважины"
   ]
  },
  {
   "cell_type": "code",
   "execution_count": 25,
   "metadata": {},
   "outputs": [],
   "source": [
    "all_holes_budget = 10**10 #бюджет на разработку всех скважин в регионе\n",
    "barrel_price = 450\n",
    "holes_amount = 200 #количество скважин в регионе"
   ]
  },
  {
   "cell_type": "code",
   "execution_count": 26,
   "metadata": {},
   "outputs": [
    {
     "name": "stdout",
     "output_type": "stream",
     "text": [
      "Объем в скважине, необходимый для безубыточной разработки: 111.11 тыс. баррелей\n"
     ]
    }
   ],
   "source": [
    "oil_volume_in_one_hole = all_holes_budget / (barrel_price*(10**3) * holes_amount)\n",
    "print('Объем в скважине, необходимый для безубыточной разработки:', round(oil_volume_in_one_hole,2), \"тыс. баррелей\")"
   ]
  },
  {
   "cell_type": "markdown",
   "metadata": {},
   "source": [
    "Объем в одной скважине, необходимый для безубыточной разработки, больше, чем средний предсказанный объем в любом из регионов"
   ]
  },
  {
   "cell_type": "markdown",
   "metadata": {},
   "source": [
    "Функция для расчета прибыли"
   ]
  },
  {
   "cell_type": "code",
   "execution_count": 27,
   "metadata": {},
   "outputs": [],
   "source": [
    "def revenue(target, predictions, count):\n",
    "    sort_predictions = pd.Series(predictions).sort_values(ascending=False)\n",
    "    selected = target[sort_predictions.index][:count]\n",
    "    return barrel_price * selected.sum()*10**3 - all_holes_budget"
   ]
  },
  {
   "cell_type": "markdown",
   "metadata": {},
   "source": [
    "## Расчёт прибыли и рисков "
   ]
  },
  {
   "cell_type": "markdown",
   "metadata": {},
   "source": [
    "Исследование техникой bootstrap для региона 0"
   ]
  },
  {
   "cell_type": "code",
   "execution_count": 28,
   "metadata": {},
   "outputs": [],
   "source": [
    "def bootstrap_for_models(target, predictions):\n",
    "    predictions = pd.Series(predictions)\n",
    "    state = np.random.RandomState(12345)\n",
    "    values = []\n",
    "    for i in range(1000):\n",
    "        target_subsample = target.sample(frac=500/len(target), replace=True, random_state=state)\n",
    "        predictions_subsample = predictions[target_subsample.index]\n",
    "        values.append(revenue(target_subsample, predictions_subsample, 200))\n",
    "    return pd.Series(values)"
   ]
  },
  {
   "cell_type": "code",
   "execution_count": 29,
   "metadata": {},
   "outputs": [],
   "source": [
    "def quant(bootstrap_result):\n",
    "    res = []\n",
    "    res.append(bootstrap_result.quantile(q=0.025))\n",
    "    res.append(bootstrap_result.quantile(q = 0.975))\n",
    "    return tuple(res)"
   ]
  },
  {
   "cell_type": "code",
   "execution_count": 30,
   "metadata": {
    "scrolled": true
   },
   "outputs": [
    {
     "data": {
      "text/plain": [
       "425938526.91059226"
      ]
     },
     "execution_count": 30,
     "metadata": {},
     "output_type": "execute_result"
    }
   ],
   "source": [
    "bootstr_0 = bootstrap_for_models(target_valid_0, predictions_0)\n",
    "bootstr_0.mean()"
   ]
  },
  {
   "cell_type": "code",
   "execution_count": 31,
   "metadata": {},
   "outputs": [
    {
     "data": {
      "text/plain": [
       "(-102090094.83793654, 947976353.358369)"
      ]
     },
     "execution_count": 31,
     "metadata": {},
     "output_type": "execute_result"
    }
   ],
   "source": [
    "quant(bootstr_0)"
   ]
  },
  {
   "cell_type": "code",
   "execution_count": 32,
   "metadata": {},
   "outputs": [
    {
     "data": {
      "text/plain": [
       "<matplotlib.axes._subplots.AxesSubplot at 0x7f6e49d36d10>"
      ]
     },
     "execution_count": 32,
     "metadata": {},
     "output_type": "execute_result"
    },
    {
     "data": {
      "image/png": "[encoded data removed]",
      "text/plain": [
       "<Figure size 432x288 with 1 Axes>"
      ]
     },
     "metadata": {
      "needs_background": "light"
     },
     "output_type": "display_data"
    }
   ],
   "source": [
    "bootstr_0.plot(kind='hist')"
   ]
  },
  {
   "cell_type": "code",
   "execution_count": 33,
   "metadata": {},
   "outputs": [],
   "source": [
    "def money_lost_probability(bootstrap_result):\n",
    "    return bootstrap_result[bootstrap_result < 0].count() / 1000"
   ]
  },
  {
   "cell_type": "code",
   "execution_count": 34,
   "metadata": {},
   "outputs": [
    {
     "data": {
      "text/plain": [
       "0.06"
      ]
     },
     "execution_count": 34,
     "metadata": {},
     "output_type": "execute_result"
    }
   ],
   "source": [
    "money_lost_probability(bootstr_0)"
   ]
  },
  {
   "cell_type": "code",
   "execution_count": 35,
   "metadata": {},
   "outputs": [
    {
     "data": {
      "text/plain": [
       "515222773.44328994"
      ]
     },
     "execution_count": 35,
     "metadata": {},
     "output_type": "execute_result"
    }
   ],
   "source": [
    "bootstr_1 = bootstrap_for_models(target_valid_1, predictions_1)\n",
    "bootstr_1.mean()"
   ]
  },
  {
   "cell_type": "code",
   "execution_count": 36,
   "metadata": {},
   "outputs": [
    {
     "data": {
      "text/plain": [
       "(68873225.37050177, 931547591.2570496)"
      ]
     },
     "execution_count": 36,
     "metadata": {},
     "output_type": "execute_result"
    }
   ],
   "source": [
    "quant(bootstr_1)"
   ]
  },
  {
   "cell_type": "code",
   "execution_count": 37,
   "metadata": {},
   "outputs": [
    {
     "data": {
      "text/plain": [
       "0.01"
      ]
     },
     "execution_count": 37,
     "metadata": {},
     "output_type": "execute_result"
    }
   ],
   "source": [
    "money_lost_probability(bootstr_1)"
   ]
  },
  {
   "cell_type": "code",
   "execution_count": 38,
   "metadata": {},
   "outputs": [
    {
     "data": {
      "text/plain": [
       "<matplotlib.axes._subplots.AxesSubplot at 0x7f6e3e240f90>"
      ]
     },
     "execution_count": 38,
     "metadata": {},
     "output_type": "execute_result"
    },
    {
     "data": {
      "image/png": "[encoded data removed]",
      "text/plain": [
       "<Figure size 432x288 with 1 Axes>"
      ]
     },
     "metadata": {
      "needs_background": "light"
     },
     "output_type": "display_data"
    }
   ],
   "source": [
    "bootstr_1.plot(kind='hist')"
   ]
  },
  {
   "cell_type": "code",
   "execution_count": 39,
   "metadata": {},
   "outputs": [
    {
     "data": {
      "text/plain": [
       "435008362.78275555"
      ]
     },
     "execution_count": 39,
     "metadata": {},
     "output_type": "execute_result"
    }
   ],
   "source": [
    "bootstr_2 = bootstrap_for_models(target_valid_2, predictions_2)\n",
    "bootstr_2.mean()"
   ]
  },
  {
   "cell_type": "code",
   "execution_count": 40,
   "metadata": {},
   "outputs": [
    {
     "data": {
      "text/plain": [
       "(-128880547.32978901, 969706954.1802679)"
      ]
     },
     "execution_count": 40,
     "metadata": {},
     "output_type": "execute_result"
    }
   ],
   "source": [
    "quant(bootstr_2)"
   ]
  },
  {
   "cell_type": "code",
   "execution_count": 41,
   "metadata": {},
   "outputs": [
    {
     "data": {
      "text/plain": [
       "0.064"
      ]
     },
     "execution_count": 41,
     "metadata": {},
     "output_type": "execute_result"
    }
   ],
   "source": [
    "money_lost_probability(bootstr_2)"
   ]
  },
  {
   "cell_type": "code",
   "execution_count": 42,
   "metadata": {},
   "outputs": [
    {
     "data": {
      "text/plain": [
       "<matplotlib.axes._subplots.AxesSubplot at 0x7f6e3e1cb550>"
      ]
     },
     "execution_count": 42,
     "metadata": {},
     "output_type": "execute_result"
    },
    {
     "data": {
      "image/png": "[encoded data removed]",
      "text/plain": [
       "<Figure size 432x288 with 1 Axes>"
      ]
     },
     "metadata": {
      "needs_background": "light"
     },
     "output_type": "display_data"
    }
   ],
   "source": [
    "bootstr_2.plot(kind='hist')"
   ]
  },
  {
   "cell_type": "markdown",
   "metadata": {},
   "source": [
    "На основе результатов, полученных бутстрепом можно предложить для разработки регион 1, так как там наименьшая и вероятность убытка - 1%, он один удовлетворяет условию о том, что вероятность убытка должна быть меньше 2.5%. Более того, у региона 1 для 95% доверительного интервала оба конца являются положительными, это говорит о том, что средняя прибыль с вероятностью 95% лежать в интервале (68873225.37, 931547591.26)."
   ]
  }
 ],
 "metadata": {
  "ExecuteTimeLog": [
   {
    "duration": 712,
    "start_time": "2022-02-27T18:56:42.837Z"
   },
   {
    "duration": 192,
    "start_time": "2022-02-27T18:57:21.365Z"
   },
   {
    "duration": 188,
    "start_time": "2022-02-27T18:59:35.742Z"
   },
   {
    "duration": 166,
    "start_time": "2022-02-27T19:00:07.098Z"
   },
   {
    "duration": 13,
    "start_time": "2022-02-27T19:01:03.488Z"
   },
   {
    "duration": 12,
    "start_time": "2022-02-27T19:01:20.510Z"
   },
   {
    "duration": 15,
    "start_time": "2022-02-27T19:01:33.799Z"
   },
   {
    "duration": 16,
    "start_time": "2022-02-27T19:02:22.482Z"
   },
   {
    "duration": 67,
    "start_time": "2022-02-27T19:03:49.323Z"
   },
   {
    "duration": 323,
    "start_time": "2022-02-27T19:05:41.699Z"
   },
   {
    "duration": 173,
    "start_time": "2022-02-27T19:05:55.338Z"
   },
   {
    "duration": 172,
    "start_time": "2022-02-27T19:06:09.075Z"
   },
   {
    "duration": 678,
    "start_time": "2022-02-27T19:07:27.784Z"
   },
   {
    "duration": 179,
    "start_time": "2022-02-27T19:07:28.465Z"
   },
   {
    "duration": 172,
    "start_time": "2022-02-27T19:07:28.650Z"
   },
   {
    "duration": 167,
    "start_time": "2022-02-27T19:07:28.824Z"
   },
   {
    "duration": 12,
    "start_time": "2022-02-27T19:07:28.994Z"
   },
   {
    "duration": 28,
    "start_time": "2022-02-27T19:07:29.009Z"
   },
   {
    "duration": 14,
    "start_time": "2022-02-27T19:07:29.039Z"
   },
   {
    "duration": 215,
    "start_time": "2022-02-27T19:07:29.056Z"
   },
   {
    "duration": 14,
    "start_time": "2022-02-27T19:13:57.714Z"
   },
   {
    "duration": 21,
    "start_time": "2022-02-27T19:14:37.436Z"
   },
   {
    "duration": 99,
    "start_time": "2022-02-27T19:15:59.942Z"
   },
   {
    "duration": 360,
    "start_time": "2022-02-27T19:16:09.963Z"
   },
   {
    "duration": 32,
    "start_time": "2022-02-27T19:16:21.271Z"
   },
   {
    "duration": 35,
    "start_time": "2022-02-27T19:16:37.318Z"
   },
   {
    "duration": 400,
    "start_time": "2022-02-27T19:42:56.985Z"
   },
   {
    "duration": 19,
    "start_time": "2022-02-27T19:43:08.340Z"
   },
   {
    "duration": 252,
    "start_time": "2022-02-27T19:43:51.450Z"
   },
   {
    "duration": 267,
    "start_time": "2022-02-27T19:44:22.085Z"
   },
   {
    "duration": 255,
    "start_time": "2022-02-27T19:45:48.353Z"
   },
   {
    "duration": 261,
    "start_time": "2022-02-27T19:47:03.252Z"
   },
   {
    "duration": 173,
    "start_time": "2022-02-27T19:47:15.837Z"
   },
   {
    "duration": 176,
    "start_time": "2022-02-27T19:47:25.508Z"
   },
   {
    "duration": 692,
    "start_time": "2022-02-27T19:47:29.367Z"
   },
   {
    "duration": 182,
    "start_time": "2022-02-27T19:47:30.062Z"
   },
   {
    "duration": 173,
    "start_time": "2022-02-27T19:47:30.246Z"
   },
   {
    "duration": 167,
    "start_time": "2022-02-27T19:47:30.422Z"
   },
   {
    "duration": 12,
    "start_time": "2022-02-27T19:47:30.592Z"
   },
   {
    "duration": 35,
    "start_time": "2022-02-27T19:47:30.606Z"
   },
   {
    "duration": 16,
    "start_time": "2022-02-27T19:47:30.644Z"
   },
   {
    "duration": 221,
    "start_time": "2022-02-27T19:47:30.663Z"
   },
   {
    "duration": 47,
    "start_time": "2022-02-27T19:47:30.887Z"
   },
   {
    "duration": 16,
    "start_time": "2022-02-27T19:47:30.936Z"
   },
   {
    "duration": 1315,
    "start_time": "2022-02-27T19:49:00.434Z"
   },
   {
    "duration": 191,
    "start_time": "2022-02-27T19:49:01.756Z"
   },
   {
    "duration": 180,
    "start_time": "2022-02-27T19:49:01.951Z"
   },
   {
    "duration": 167,
    "start_time": "2022-02-27T19:49:02.134Z"
   },
   {
    "duration": 29,
    "start_time": "2022-02-27T19:49:02.303Z"
   },
   {
    "duration": 15,
    "start_time": "2022-02-27T19:49:02.335Z"
   },
   {
    "duration": 16,
    "start_time": "2022-02-27T19:49:02.354Z"
   },
   {
    "duration": 227,
    "start_time": "2022-02-27T19:49:02.373Z"
   },
   {
    "duration": 46,
    "start_time": "2022-02-27T19:49:02.603Z"
   },
   {
    "duration": 16,
    "start_time": "2022-02-27T19:49:02.651Z"
   },
   {
    "duration": 14,
    "start_time": "2022-02-27T19:54:39.859Z"
   },
   {
    "duration": 1268,
    "start_time": "2022-02-27T19:55:34.665Z"
   },
   {
    "duration": 190,
    "start_time": "2022-02-27T19:55:35.936Z"
   },
   {
    "duration": 163,
    "start_time": "2022-02-27T19:55:36.129Z"
   },
   {
    "duration": 160,
    "start_time": "2022-02-27T19:55:36.295Z"
   },
   {
    "duration": 12,
    "start_time": "2022-02-27T19:55:36.458Z"
   },
   {
    "duration": 12,
    "start_time": "2022-02-27T19:55:36.473Z"
   },
   {
    "duration": 13,
    "start_time": "2022-02-27T19:55:36.487Z"
   },
   {
    "duration": 222,
    "start_time": "2022-02-27T19:55:36.502Z"
   },
   {
    "duration": 38,
    "start_time": "2022-02-27T19:55:36.732Z"
   },
   {
    "duration": 16,
    "start_time": "2022-02-27T19:55:36.773Z"
   },
   {
    "duration": 43,
    "start_time": "2022-02-27T19:55:36.793Z"
   },
   {
    "duration": 18,
    "start_time": "2022-02-27T19:59:27.658Z"
   },
   {
    "duration": 20,
    "start_time": "2022-02-27T19:59:47.472Z"
   },
   {
    "duration": 5,
    "start_time": "2022-02-27T20:00:04.553Z"
   },
   {
    "duration": 37,
    "start_time": "2022-02-27T20:00:46.964Z"
   },
   {
    "duration": 15,
    "start_time": "2022-02-27T20:00:52.497Z"
   },
   {
    "duration": 21,
    "start_time": "2022-02-27T20:01:06.841Z"
   },
   {
    "duration": 5,
    "start_time": "2022-02-27T20:01:13.777Z"
   },
   {
    "duration": 19,
    "start_time": "2022-02-27T20:01:21.191Z"
   },
   {
    "duration": 5,
    "start_time": "2022-02-27T20:01:28.093Z"
   },
   {
    "duration": 17,
    "start_time": "2022-02-27T20:02:09.841Z"
   },
   {
    "duration": 1315,
    "start_time": "2022-02-27T20:02:32.120Z"
   },
   {
    "duration": 196,
    "start_time": "2022-02-27T20:02:33.438Z"
   },
   {
    "duration": 162,
    "start_time": "2022-02-27T20:02:33.637Z"
   },
   {
    "duration": 156,
    "start_time": "2022-02-27T20:02:33.802Z"
   },
   {
    "duration": 13,
    "start_time": "2022-02-27T20:02:33.960Z"
   },
   {
    "duration": 13,
    "start_time": "2022-02-27T20:02:33.975Z"
   },
   {
    "duration": 42,
    "start_time": "2022-02-27T20:02:33.991Z"
   },
   {
    "duration": 198,
    "start_time": "2022-02-27T20:02:34.035Z"
   },
   {
    "duration": 33,
    "start_time": "2022-02-27T20:02:34.237Z"
   },
   {
    "duration": 17,
    "start_time": "2022-02-27T20:02:34.272Z"
   },
   {
    "duration": 44,
    "start_time": "2022-02-27T20:02:34.291Z"
   },
   {
    "duration": 20,
    "start_time": "2022-02-27T20:02:34.338Z"
   },
   {
    "duration": 18,
    "start_time": "2022-02-27T20:02:34.360Z"
   },
   {
    "duration": 17,
    "start_time": "2022-02-27T20:02:34.380Z"
   },
   {
    "duration": 1333,
    "start_time": "2022-02-27T20:09:55.401Z"
   },
   {
    "duration": 185,
    "start_time": "2022-02-27T20:09:56.737Z"
   },
   {
    "duration": 168,
    "start_time": "2022-02-27T20:09:56.925Z"
   },
   {
    "duration": 156,
    "start_time": "2022-02-27T20:09:57.096Z"
   },
   {
    "duration": 13,
    "start_time": "2022-02-27T20:09:57.254Z"
   },
   {
    "duration": 13,
    "start_time": "2022-02-27T20:09:57.269Z"
   },
   {
    "duration": 13,
    "start_time": "2022-02-27T20:09:57.284Z"
   },
   {
    "duration": 227,
    "start_time": "2022-02-27T20:09:57.300Z"
   },
   {
    "duration": 33,
    "start_time": "2022-02-27T20:09:57.530Z"
   },
   {
    "duration": 16,
    "start_time": "2022-02-27T20:09:57.566Z"
   },
   {
    "duration": 15,
    "start_time": "2022-02-27T20:09:57.585Z"
   },
   {
    "duration": 47,
    "start_time": "2022-02-27T20:09:57.603Z"
   },
   {
    "duration": 18,
    "start_time": "2022-02-27T20:09:57.652Z"
   },
   {
    "duration": 18,
    "start_time": "2022-02-27T20:09:57.672Z"
   },
   {
    "duration": 358,
    "start_time": "2022-02-27T20:09:57.693Z"
   },
   {
    "duration": 21,
    "start_time": "2022-02-27T20:13:29.551Z"
   },
   {
    "duration": 19,
    "start_time": "2022-02-27T20:19:19.820Z"
   },
   {
    "duration": 884,
    "start_time": "2022-02-27T20:20:03.924Z"
   },
   {
    "duration": 5,
    "start_time": "2022-02-27T20:20:12.734Z"
   },
   {
    "duration": 4,
    "start_time": "2022-02-27T20:24:46.344Z"
   },
   {
    "duration": 278,
    "start_time": "2022-02-27T20:26:23.910Z"
   },
   {
    "duration": 5,
    "start_time": "2022-02-27T20:26:34.712Z"
   },
   {
    "duration": 692,
    "start_time": "2022-02-27T20:26:35.186Z"
   },
   {
    "duration": 6,
    "start_time": "2022-02-27T20:26:41.695Z"
   },
   {
    "duration": 640,
    "start_time": "2022-02-27T20:26:42.368Z"
   },
   {
    "duration": 5,
    "start_time": "2022-02-27T20:27:21.135Z"
   },
   {
    "duration": 17,
    "start_time": "2022-02-27T20:27:21.768Z"
   },
   {
    "duration": 5,
    "start_time": "2022-02-27T20:27:43.762Z"
   },
   {
    "duration": 1278,
    "start_time": "2022-02-27T20:39:24.462Z"
   },
   {
    "duration": 186,
    "start_time": "2022-02-27T20:39:25.742Z"
   },
   {
    "duration": 164,
    "start_time": "2022-02-27T20:39:25.931Z"
   },
   {
    "duration": 152,
    "start_time": "2022-02-27T20:39:26.098Z"
   },
   {
    "duration": 12,
    "start_time": "2022-02-27T20:39:26.253Z"
   },
   {
    "duration": 12,
    "start_time": "2022-02-27T20:39:26.267Z"
   },
   {
    "duration": 12,
    "start_time": "2022-02-27T20:39:26.282Z"
   },
   {
    "duration": 212,
    "start_time": "2022-02-27T20:39:26.298Z"
   },
   {
    "duration": 45,
    "start_time": "2022-02-27T20:39:26.513Z"
   },
   {
    "duration": 16,
    "start_time": "2022-02-27T20:39:26.561Z"
   },
   {
    "duration": 14,
    "start_time": "2022-02-27T20:39:26.579Z"
   },
   {
    "duration": 42,
    "start_time": "2022-02-27T20:39:26.596Z"
   },
   {
    "duration": 17,
    "start_time": "2022-02-27T20:39:26.641Z"
   },
   {
    "duration": 19,
    "start_time": "2022-02-27T20:39:26.660Z"
   },
   {
    "duration": 5,
    "start_time": "2022-02-27T20:39:26.682Z"
   },
   {
    "duration": 52,
    "start_time": "2022-02-27T20:39:26.689Z"
   },
   {
    "duration": 7,
    "start_time": "2022-02-27T20:39:26.834Z"
   },
   {
    "duration": 5,
    "start_time": "2022-02-27T20:40:53.265Z"
   },
   {
    "duration": 5,
    "start_time": "2022-02-27T20:41:00.307Z"
   },
   {
    "duration": 16,
    "start_time": "2022-02-27T20:41:35.582Z"
   },
   {
    "duration": 6,
    "start_time": "2022-02-27T20:41:43.504Z"
   },
   {
    "duration": 5,
    "start_time": "2022-02-27T20:41:57.369Z"
   },
   {
    "duration": 59,
    "start_time": "2022-02-27T20:45:09.676Z"
   },
   {
    "duration": 4,
    "start_time": "2022-02-27T20:45:24.930Z"
   },
   {
    "duration": 1327,
    "start_time": "2022-02-27T20:46:08.816Z"
   },
   {
    "duration": 179,
    "start_time": "2022-02-27T20:46:10.146Z"
   },
   {
    "duration": 162,
    "start_time": "2022-02-27T20:46:10.328Z"
   },
   {
    "duration": 155,
    "start_time": "2022-02-27T20:46:10.493Z"
   },
   {
    "duration": 12,
    "start_time": "2022-02-27T20:46:10.651Z"
   },
   {
    "duration": 12,
    "start_time": "2022-02-27T20:46:10.665Z"
   },
   {
    "duration": 13,
    "start_time": "2022-02-27T20:46:10.679Z"
   },
   {
    "duration": 205,
    "start_time": "2022-02-27T20:46:10.696Z"
   },
   {
    "duration": 43,
    "start_time": "2022-02-27T20:46:10.904Z"
   },
   {
    "duration": 15,
    "start_time": "2022-02-27T20:46:10.949Z"
   },
   {
    "duration": 15,
    "start_time": "2022-02-27T20:46:10.966Z"
   },
   {
    "duration": 20,
    "start_time": "2022-02-27T20:46:10.983Z"
   },
   {
    "duration": 42,
    "start_time": "2022-02-27T20:46:11.005Z"
   },
   {
    "duration": 18,
    "start_time": "2022-02-27T20:46:11.049Z"
   },
   {
    "duration": 4,
    "start_time": "2022-02-27T20:46:11.069Z"
   },
   {
    "duration": 66,
    "start_time": "2022-02-27T20:46:11.075Z"
   },
   {
    "duration": 5,
    "start_time": "2022-02-27T20:46:11.234Z"
   },
   {
    "duration": 20,
    "start_time": "2022-02-27T20:46:11.241Z"
   },
   {
    "duration": 7,
    "start_time": "2022-02-27T20:46:11.336Z"
   },
   {
    "duration": 17,
    "start_time": "2022-02-27T20:46:11.433Z"
   },
   {
    "duration": 178,
    "start_time": "2022-02-27T20:46:11.454Z"
   },
   {
    "duration": 1348,
    "start_time": "2022-02-27T20:47:19.699Z"
   },
   {
    "duration": 185,
    "start_time": "2022-02-27T20:47:21.050Z"
   },
   {
    "duration": 173,
    "start_time": "2022-02-27T20:47:21.239Z"
   },
   {
    "duration": 162,
    "start_time": "2022-02-27T20:47:21.415Z"
   },
   {
    "duration": 24,
    "start_time": "2022-02-27T20:47:21.579Z"
   },
   {
    "duration": 44,
    "start_time": "2022-02-27T20:47:21.606Z"
   },
   {
    "duration": 23,
    "start_time": "2022-02-27T20:47:21.653Z"
   },
   {
    "duration": 214,
    "start_time": "2022-02-27T20:47:21.680Z"
   },
   {
    "duration": 75,
    "start_time": "2022-02-27T20:47:21.897Z"
   },
   {
    "duration": 16,
    "start_time": "2022-02-27T20:47:21.974Z"
   },
   {
    "duration": 16,
    "start_time": "2022-02-27T20:47:21.993Z"
   },
   {
    "duration": 37,
    "start_time": "2022-02-27T20:47:22.011Z"
   },
   {
    "duration": 19,
    "start_time": "2022-02-27T20:47:22.050Z"
   },
   {
    "duration": 20,
    "start_time": "2022-02-27T20:47:22.071Z"
   },
   {
    "duration": 6,
    "start_time": "2022-02-27T20:47:22.093Z"
   },
   {
    "duration": 21,
    "start_time": "2022-02-27T20:47:22.134Z"
   },
   {
    "duration": 177,
    "start_time": "2022-02-27T20:47:22.158Z"
   },
   {
    "duration": 120,
    "start_time": "2022-02-27T20:47:22.338Z"
   },
   {
    "duration": 76,
    "start_time": "2022-02-27T20:47:22.462Z"
   },
   {
    "duration": 101,
    "start_time": "2022-02-27T20:47:22.541Z"
   },
   {
    "duration": 6,
    "start_time": "2022-02-27T20:47:22.645Z"
   },
   {
    "duration": 954,
    "start_time": "2022-02-28T03:59:49.594Z"
   },
   {
    "duration": 134,
    "start_time": "2022-02-28T03:59:50.550Z"
   },
   {
    "duration": 121,
    "start_time": "2022-02-28T03:59:50.688Z"
   },
   {
    "duration": 115,
    "start_time": "2022-02-28T03:59:50.810Z"
   },
   {
    "duration": 11,
    "start_time": "2022-02-28T03:59:50.927Z"
   },
   {
    "duration": 11,
    "start_time": "2022-02-28T03:59:50.940Z"
   },
   {
    "duration": 9,
    "start_time": "2022-02-28T03:59:50.954Z"
   },
   {
    "duration": 128,
    "start_time": "2022-02-28T03:59:50.965Z"
   },
   {
    "duration": 23,
    "start_time": "2022-02-28T03:59:51.095Z"
   },
   {
    "duration": 25,
    "start_time": "2022-02-28T03:59:51.119Z"
   },
   {
    "duration": 11,
    "start_time": "2022-02-28T03:59:51.146Z"
   },
   {
    "duration": 16,
    "start_time": "2022-02-28T03:59:51.159Z"
   },
   {
    "duration": 15,
    "start_time": "2022-02-28T03:59:51.177Z"
   },
   {
    "duration": 15,
    "start_time": "2022-02-28T03:59:51.193Z"
   },
   {
    "duration": 3,
    "start_time": "2022-02-28T03:59:51.210Z"
   },
   {
    "duration": 38,
    "start_time": "2022-02-28T03:59:51.214Z"
   },
   {
    "duration": 184,
    "start_time": "2022-02-28T03:59:51.254Z"
   },
   {
    "duration": 110,
    "start_time": "2022-02-28T03:59:51.441Z"
   },
   {
    "duration": 4,
    "start_time": "2022-02-28T03:59:51.554Z"
   },
   {
    "duration": 100,
    "start_time": "2022-02-28T03:59:51.639Z"
   },
   {
    "duration": 6,
    "start_time": "2022-02-28T03:59:51.741Z"
   },
   {
    "duration": 216,
    "start_time": "2022-02-28T03:59:51.749Z"
   },
   {
    "duration": 156,
    "start_time": "2022-02-28T04:00:00.516Z"
   },
   {
    "duration": 147,
    "start_time": "2022-02-28T04:00:26.849Z"
   },
   {
    "duration": 205,
    "start_time": "2022-02-28T04:00:33.586Z"
   },
   {
    "duration": 18,
    "start_time": "2022-02-28T04:00:51.729Z"
   },
   {
    "duration": 184,
    "start_time": "2022-02-28T04:01:45.742Z"
   },
   {
    "duration": 6,
    "start_time": "2022-02-28T04:02:00.321Z"
   },
   {
    "duration": 15,
    "start_time": "2022-02-28T04:02:37.845Z"
   },
   {
    "duration": 5,
    "start_time": "2022-02-28T04:02:39.994Z"
   },
   {
    "duration": 5,
    "start_time": "2022-02-28T04:03:14.939Z"
   },
   {
    "duration": 1023,
    "start_time": "2022-02-28T10:31:50.291Z"
   },
   {
    "duration": 155,
    "start_time": "2022-02-28T10:31:51.316Z"
   },
   {
    "duration": 134,
    "start_time": "2022-02-28T10:31:51.477Z"
   },
   {
    "duration": 122,
    "start_time": "2022-02-28T10:31:51.613Z"
   },
   {
    "duration": 9,
    "start_time": "2022-02-28T10:31:51.737Z"
   },
   {
    "duration": 12,
    "start_time": "2022-02-28T10:31:51.748Z"
   },
   {
    "duration": 18,
    "start_time": "2022-02-28T10:31:51.762Z"
   },
   {
    "duration": 116,
    "start_time": "2022-02-28T10:31:51.782Z"
   },
   {
    "duration": 24,
    "start_time": "2022-02-28T10:31:51.899Z"
   },
   {
    "duration": 11,
    "start_time": "2022-02-28T10:31:51.925Z"
   },
   {
    "duration": 13,
    "start_time": "2022-02-28T10:31:51.937Z"
   },
   {
    "duration": 35,
    "start_time": "2022-02-28T10:31:51.951Z"
   },
   {
    "duration": 16,
    "start_time": "2022-02-28T10:31:51.987Z"
   },
   {
    "duration": 16,
    "start_time": "2022-02-28T10:31:52.005Z"
   },
   {
    "duration": 4,
    "start_time": "2022-02-28T10:31:52.023Z"
   },
   {
    "duration": 56,
    "start_time": "2022-02-28T10:31:52.029Z"
   },
   {
    "duration": 100,
    "start_time": "2022-02-28T10:31:52.087Z"
   },
   {
    "duration": 190,
    "start_time": "2022-02-28T10:31:52.189Z"
   },
   {
    "duration": 99,
    "start_time": "2022-02-28T10:31:52.382Z"
   },
   {
    "duration": 7,
    "start_time": "2022-02-28T10:31:52.482Z"
   },
   {
    "duration": 6,
    "start_time": "2022-02-28T10:31:52.490Z"
   },
   {
    "duration": 3,
    "start_time": "2022-02-28T10:43:52.395Z"
   },
   {
    "duration": 316,
    "start_time": "2022-02-28T10:46:04.999Z"
   },
   {
    "duration": 3,
    "start_time": "2022-02-28T10:46:15.264Z"
   },
   {
    "duration": 3,
    "start_time": "2022-02-28T10:47:18.968Z"
   },
   {
    "duration": 4,
    "start_time": "2022-02-28T10:47:35.609Z"
   },
   {
    "duration": 1106,
    "start_time": "2022-02-28T10:50:21.614Z"
   },
   {
    "duration": 147,
    "start_time": "2022-02-28T10:50:22.722Z"
   },
   {
    "duration": 138,
    "start_time": "2022-02-28T10:50:22.872Z"
   },
   {
    "duration": 137,
    "start_time": "2022-02-28T10:50:23.013Z"
   },
   {
    "duration": 12,
    "start_time": "2022-02-28T10:50:23.152Z"
   },
   {
    "duration": 20,
    "start_time": "2022-02-28T10:50:23.166Z"
   },
   {
    "duration": 12,
    "start_time": "2022-02-28T10:50:23.189Z"
   },
   {
    "duration": 152,
    "start_time": "2022-02-28T10:50:23.205Z"
   },
   {
    "duration": 39,
    "start_time": "2022-02-28T10:50:23.360Z"
   },
   {
    "duration": 13,
    "start_time": "2022-02-28T10:50:23.401Z"
   },
   {
    "duration": 16,
    "start_time": "2022-02-28T10:50:23.415Z"
   },
   {
    "duration": 16,
    "start_time": "2022-02-28T10:50:23.433Z"
   },
   {
    "duration": 37,
    "start_time": "2022-02-28T10:50:23.451Z"
   },
   {
    "duration": 15,
    "start_time": "2022-02-28T10:50:23.490Z"
   },
   {
    "duration": 4,
    "start_time": "2022-02-28T10:50:23.507Z"
   },
   {
    "duration": 68,
    "start_time": "2022-02-28T10:50:23.512Z"
   },
   {
    "duration": 105,
    "start_time": "2022-02-28T10:50:23.582Z"
   },
   {
    "duration": 98,
    "start_time": "2022-02-28T10:50:23.689Z"
   },
   {
    "duration": 100,
    "start_time": "2022-02-28T10:50:23.879Z"
   },
   {
    "duration": 7,
    "start_time": "2022-02-28T10:50:23.981Z"
   },
   {
    "duration": 6,
    "start_time": "2022-02-28T10:50:23.990Z"
   },
   {
    "duration": 5,
    "start_time": "2022-02-28T10:50:23.998Z"
   },
   {
    "duration": 4,
    "start_time": "2022-02-28T10:50:24.006Z"
   },
   {
    "duration": 4,
    "start_time": "2022-02-28T10:56:21.595Z"
   },
   {
    "duration": 3,
    "start_time": "2022-02-28T11:09:43.777Z"
   },
   {
    "duration": 4,
    "start_time": "2022-02-28T11:09:57.385Z"
   },
   {
    "duration": 3,
    "start_time": "2022-02-28T11:10:21.254Z"
   },
   {
    "duration": 4,
    "start_time": "2022-02-28T11:32:10.008Z"
   },
   {
    "duration": 616,
    "start_time": "2022-02-28T11:32:53.375Z"
   },
   {
    "duration": 5,
    "start_time": "2022-02-28T11:33:16.094Z"
   },
   {
    "duration": 432,
    "start_time": "2022-02-28T11:33:16.799Z"
   },
   {
    "duration": 208,
    "start_time": "2022-02-28T11:33:50.340Z"
   },
   {
    "duration": 4,
    "start_time": "2022-02-28T11:33:55.983Z"
   },
   {
    "duration": 4,
    "start_time": "2022-02-28T11:34:05.038Z"
   },
   {
    "duration": 414,
    "start_time": "2022-02-28T11:34:46.775Z"
   },
   {
    "duration": 4,
    "start_time": "2022-02-28T11:35:19.173Z"
   },
   {
    "duration": 2718,
    "start_time": "2022-02-28T11:35:19.663Z"
   },
   {
    "duration": 4,
    "start_time": "2022-02-28T11:40:01.091Z"
   },
   {
    "duration": 5,
    "start_time": "2022-02-28T11:40:39.382Z"
   },
   {
    "duration": 5,
    "start_time": "2022-02-28T11:42:46.659Z"
   },
   {
    "duration": 1034,
    "start_time": "2022-02-28T11:43:36.515Z"
   },
   {
    "duration": 142,
    "start_time": "2022-02-28T11:43:37.551Z"
   },
   {
    "duration": 131,
    "start_time": "2022-02-28T11:43:37.694Z"
   },
   {
    "duration": 128,
    "start_time": "2022-02-28T11:43:37.827Z"
   },
   {
    "duration": 10,
    "start_time": "2022-02-28T11:43:37.957Z"
   },
   {
    "duration": 10,
    "start_time": "2022-02-28T11:43:37.976Z"
   },
   {
    "duration": 11,
    "start_time": "2022-02-28T11:43:37.987Z"
   },
   {
    "duration": 140,
    "start_time": "2022-02-28T11:43:38.001Z"
   },
   {
    "duration": 35,
    "start_time": "2022-02-28T11:43:38.144Z"
   },
   {
    "duration": 12,
    "start_time": "2022-02-28T11:43:38.181Z"
   },
   {
    "duration": 12,
    "start_time": "2022-02-28T11:43:38.195Z"
   },
   {
    "duration": 19,
    "start_time": "2022-02-28T11:43:38.208Z"
   },
   {
    "duration": 5,
    "start_time": "2022-02-28T11:43:38.229Z"
   },
   {
    "duration": 15,
    "start_time": "2022-02-28T11:43:38.235Z"
   },
   {
    "duration": 26,
    "start_time": "2022-02-28T11:43:38.252Z"
   },
   {
    "duration": 18,
    "start_time": "2022-02-28T11:43:38.280Z"
   },
   {
    "duration": 5,
    "start_time": "2022-02-28T11:43:38.299Z"
   },
   {
    "duration": 5,
    "start_time": "2022-02-28T11:43:38.306Z"
   },
   {
    "duration": 69,
    "start_time": "2022-02-28T11:43:38.312Z"
   },
   {
    "duration": 103,
    "start_time": "2022-02-28T11:43:38.383Z"
   },
   {
    "duration": 190,
    "start_time": "2022-02-28T11:43:38.489Z"
   },
   {
    "duration": 103,
    "start_time": "2022-02-28T11:43:38.681Z"
   },
   {
    "duration": 7,
    "start_time": "2022-02-28T11:43:38.786Z"
   },
   {
    "duration": 5,
    "start_time": "2022-02-28T11:43:38.795Z"
   },
   {
    "duration": 76,
    "start_time": "2022-02-28T11:43:38.802Z"
   },
   {
    "duration": 5,
    "start_time": "2022-02-28T11:43:38.882Z"
   },
   {
    "duration": 5,
    "start_time": "2022-02-28T11:43:38.889Z"
   },
   {
    "duration": 5,
    "start_time": "2022-02-28T11:43:38.896Z"
   },
   {
    "duration": 7,
    "start_time": "2022-02-28T11:43:38.903Z"
   },
   {
    "duration": 3,
    "start_time": "2022-02-28T11:43:57.103Z"
   },
   {
    "duration": 685,
    "start_time": "2022-02-28T11:43:59.778Z"
   },
   {
    "duration": 5,
    "start_time": "2022-02-28T11:44:13.106Z"
   },
   {
    "duration": 1330,
    "start_time": "2022-02-28T11:44:13.534Z"
   },
   {
    "duration": 3,
    "start_time": "2022-02-28T11:45:03.058Z"
   },
   {
    "duration": 4,
    "start_time": "2022-02-28T11:45:04.665Z"
   },
   {
    "duration": 708,
    "start_time": "2022-02-28T11:45:05.975Z"
   },
   {
    "duration": 4,
    "start_time": "2022-02-28T11:45:35.039Z"
   },
   {
    "duration": 4,
    "start_time": "2022-02-28T11:45:36.237Z"
   },
   {
    "duration": 1320,
    "start_time": "2022-02-28T11:45:36.886Z"
   },
   {
    "duration": 3,
    "start_time": "2022-02-28T11:46:08.326Z"
   },
   {
    "duration": 4,
    "start_time": "2022-02-28T11:46:09.758Z"
   },
   {
    "duration": 2884,
    "start_time": "2022-02-28T11:46:10.626Z"
   },
   {
    "duration": 4,
    "start_time": "2022-02-28T11:46:30.346Z"
   },
   {
    "duration": 2462,
    "start_time": "2022-02-28T11:46:31.102Z"
   },
   {
    "duration": 2366,
    "start_time": "2022-02-28T11:49:18.761Z"
   },
   {
    "duration": 4,
    "start_time": "2022-02-28T12:08:25.646Z"
   },
   {
    "duration": 4,
    "start_time": "2022-02-28T12:08:26.958Z"
   },
   {
    "duration": 2416,
    "start_time": "2022-02-28T12:08:27.441Z"
   },
   {
    "duration": 2391,
    "start_time": "2022-02-28T12:08:49.564Z"
   },
   {
    "duration": 2453,
    "start_time": "2022-02-28T12:09:05.394Z"
   },
   {
    "duration": 2455,
    "start_time": "2022-02-28T12:16:52.454Z"
   },
   {
    "duration": 2405,
    "start_time": "2022-02-28T12:27:53.426Z"
   },
   {
    "duration": 1060,
    "start_time": "2022-02-28T12:29:28.349Z"
   },
   {
    "duration": 145,
    "start_time": "2022-02-28T12:29:29.412Z"
   },
   {
    "duration": 133,
    "start_time": "2022-02-28T12:29:29.561Z"
   },
   {
    "duration": 127,
    "start_time": "2022-02-28T12:29:29.696Z"
   },
   {
    "duration": 10,
    "start_time": "2022-02-28T12:29:29.824Z"
   },
   {
    "duration": 11,
    "start_time": "2022-02-28T12:29:29.835Z"
   },
   {
    "duration": 9,
    "start_time": "2022-02-28T12:29:29.848Z"
   },
   {
    "duration": 119,
    "start_time": "2022-02-28T12:29:29.876Z"
   },
   {
    "duration": 27,
    "start_time": "2022-02-28T12:29:29.997Z"
   },
   {
    "duration": 12,
    "start_time": "2022-02-28T12:29:30.026Z"
   },
   {
    "duration": 37,
    "start_time": "2022-02-28T12:29:30.040Z"
   },
   {
    "duration": 29,
    "start_time": "2022-02-28T12:29:30.079Z"
   },
   {
    "duration": 5,
    "start_time": "2022-02-28T12:29:30.110Z"
   },
   {
    "duration": 21,
    "start_time": "2022-02-28T12:29:30.117Z"
   },
   {
    "duration": 5,
    "start_time": "2022-02-28T12:29:30.140Z"
   },
   {
    "duration": 20,
    "start_time": "2022-02-28T12:29:30.146Z"
   },
   {
    "duration": 10,
    "start_time": "2022-02-28T12:29:30.168Z"
   },
   {
    "duration": 7,
    "start_time": "2022-02-28T12:29:30.180Z"
   },
   {
    "duration": 18,
    "start_time": "2022-02-28T12:29:30.189Z"
   },
   {
    "duration": 179,
    "start_time": "2022-02-28T12:29:30.209Z"
   },
   {
    "duration": 196,
    "start_time": "2022-02-28T12:29:30.390Z"
   },
   {
    "duration": 193,
    "start_time": "2022-02-28T12:29:30.591Z"
   },
   {
    "duration": 7,
    "start_time": "2022-02-28T12:29:30.787Z"
   },
   {
    "duration": 25,
    "start_time": "2022-02-28T12:29:30.796Z"
   },
   {
    "duration": 10,
    "start_time": "2022-02-28T12:29:30.824Z"
   },
   {
    "duration": 7,
    "start_time": "2022-02-28T12:29:30.836Z"
   },
   {
    "duration": 11,
    "start_time": "2022-02-28T12:29:30.845Z"
   },
   {
    "duration": 12,
    "start_time": "2022-02-28T12:29:30.858Z"
   },
   {
    "duration": 2442,
    "start_time": "2022-02-28T12:29:30.872Z"
   },
   {
    "duration": 2437,
    "start_time": "2022-02-28T12:29:33.316Z"
   },
   {
    "duration": 2436,
    "start_time": "2022-02-28T12:29:35.755Z"
   },
   {
    "duration": 3,
    "start_time": "2022-02-28T12:38:34.999Z"
   },
   {
    "duration": 5,
    "start_time": "2022-02-28T12:38:36.853Z"
   },
   {
    "duration": 2374,
    "start_time": "2022-02-28T12:38:38.119Z"
   },
   {
    "duration": 2358,
    "start_time": "2022-02-28T12:38:40.495Z"
   },
   {
    "duration": 2391,
    "start_time": "2022-02-28T12:38:42.855Z"
   },
   {
    "duration": 2326,
    "start_time": "2022-02-28T12:38:55.442Z"
   },
   {
    "duration": 1011,
    "start_time": "2022-02-28T12:41:11.893Z"
   },
   {
    "duration": 147,
    "start_time": "2022-02-28T12:41:12.906Z"
   },
   {
    "duration": 133,
    "start_time": "2022-02-28T12:41:13.055Z"
   },
   {
    "duration": 126,
    "start_time": "2022-02-28T12:41:13.190Z"
   },
   {
    "duration": 9,
    "start_time": "2022-02-28T12:41:13.318Z"
   },
   {
    "duration": 9,
    "start_time": "2022-02-28T12:41:13.329Z"
   },
   {
    "duration": 9,
    "start_time": "2022-02-28T12:41:13.339Z"
   },
   {
    "duration": 131,
    "start_time": "2022-02-28T12:41:13.349Z"
   },
   {
    "duration": 24,
    "start_time": "2022-02-28T12:41:13.482Z"
   },
   {
    "duration": 11,
    "start_time": "2022-02-28T12:41:13.508Z"
   },
   {
    "duration": 13,
    "start_time": "2022-02-28T12:41:13.520Z"
   },
   {
    "duration": 18,
    "start_time": "2022-02-28T12:41:13.534Z"
   },
   {
    "duration": 23,
    "start_time": "2022-02-28T12:41:13.554Z"
   },
   {
    "duration": 14,
    "start_time": "2022-02-28T12:41:13.579Z"
   },
   {
    "duration": 5,
    "start_time": "2022-02-28T12:41:13.595Z"
   },
   {
    "duration": 19,
    "start_time": "2022-02-28T12:41:13.602Z"
   },
   {
    "duration": 5,
    "start_time": "2022-02-28T12:41:13.623Z"
   },
   {
    "duration": 8,
    "start_time": "2022-02-28T12:41:13.629Z"
   },
   {
    "duration": 45,
    "start_time": "2022-02-28T12:41:13.639Z"
   },
   {
    "duration": 99,
    "start_time": "2022-02-28T12:41:13.686Z"
   },
   {
    "duration": 193,
    "start_time": "2022-02-28T12:41:13.787Z"
   },
   {
    "duration": 107,
    "start_time": "2022-02-28T12:41:13.982Z"
   },
   {
    "duration": 87,
    "start_time": "2022-02-28T12:41:14.091Z"
   },
   {
    "duration": 6,
    "start_time": "2022-02-28T12:41:14.180Z"
   },
   {
    "duration": 5,
    "start_time": "2022-02-28T12:41:14.188Z"
   },
   {
    "duration": 5,
    "start_time": "2022-02-28T12:41:14.194Z"
   },
   {
    "duration": 7,
    "start_time": "2022-02-28T12:41:14.202Z"
   },
   {
    "duration": 7,
    "start_time": "2022-02-28T12:41:14.210Z"
   },
   {
    "duration": 2482,
    "start_time": "2022-02-28T12:41:14.218Z"
   },
   {
    "duration": 2434,
    "start_time": "2022-02-28T12:41:16.702Z"
   },
   {
    "duration": 2406,
    "start_time": "2022-02-28T12:41:19.137Z"
   },
   {
    "duration": 2,
    "start_time": "2022-02-28T12:49:57.945Z"
   },
   {
    "duration": 4,
    "start_time": "2022-02-28T12:49:59.027Z"
   },
   {
    "duration": 1138,
    "start_time": "2022-02-28T12:55:21.383Z"
   },
   {
    "duration": 152,
    "start_time": "2022-02-28T12:55:22.523Z"
   },
   {
    "duration": 148,
    "start_time": "2022-02-28T12:55:22.678Z"
   },
   {
    "duration": 134,
    "start_time": "2022-02-28T12:55:22.829Z"
   },
   {
    "duration": 13,
    "start_time": "2022-02-28T12:55:22.965Z"
   },
   {
    "duration": 25,
    "start_time": "2022-02-28T12:55:22.980Z"
   },
   {
    "duration": 10,
    "start_time": "2022-02-28T12:55:23.006Z"
   },
   {
    "duration": 135,
    "start_time": "2022-02-28T12:55:23.018Z"
   },
   {
    "duration": 44,
    "start_time": "2022-02-28T12:55:23.155Z"
   },
   {
    "duration": 12,
    "start_time": "2022-02-28T12:55:23.201Z"
   },
   {
    "duration": 30,
    "start_time": "2022-02-28T12:55:23.215Z"
   },
   {
    "duration": 48,
    "start_time": "2022-02-28T12:55:23.247Z"
   },
   {
    "duration": 13,
    "start_time": "2022-02-28T12:55:23.297Z"
   },
   {
    "duration": 29,
    "start_time": "2022-02-28T12:55:23.312Z"
   },
   {
    "duration": 5,
    "start_time": "2022-02-28T12:55:23.343Z"
   },
   {
    "duration": 37,
    "start_time": "2022-02-28T12:55:23.351Z"
   },
   {
    "duration": 32,
    "start_time": "2022-02-28T12:55:23.391Z"
   },
   {
    "duration": 18,
    "start_time": "2022-02-28T12:55:23.425Z"
   },
   {
    "duration": 53,
    "start_time": "2022-02-28T12:55:23.445Z"
   },
   {
    "duration": 178,
    "start_time": "2022-02-28T12:55:23.500Z"
   },
   {
    "duration": 123,
    "start_time": "2022-02-28T12:55:23.680Z"
   },
   {
    "duration": 179,
    "start_time": "2022-02-28T12:55:23.806Z"
   },
   {
    "duration": 19,
    "start_time": "2022-02-28T12:55:23.992Z"
   },
   {
    "duration": 21,
    "start_time": "2022-02-28T12:55:24.013Z"
   },
   {
    "duration": 26,
    "start_time": "2022-02-28T12:55:24.036Z"
   },
   {
    "duration": 30,
    "start_time": "2022-02-28T12:55:24.064Z"
   },
   {
    "duration": 37,
    "start_time": "2022-02-28T12:55:24.095Z"
   },
   {
    "duration": 28,
    "start_time": "2022-02-28T12:55:24.134Z"
   },
   {
    "duration": 2641,
    "start_time": "2022-02-28T12:55:24.164Z"
   },
   {
    "duration": 2592,
    "start_time": "2022-02-28T12:55:26.806Z"
   },
   {
    "duration": 2694,
    "start_time": "2022-02-28T12:55:29.400Z"
   },
   {
    "duration": 1126,
    "start_time": "2022-02-28T12:56:43.175Z"
   },
   {
    "duration": 152,
    "start_time": "2022-02-28T12:56:44.303Z"
   },
   {
    "duration": 139,
    "start_time": "2022-02-28T12:56:44.462Z"
   },
   {
    "duration": 134,
    "start_time": "2022-02-28T12:56:44.603Z"
   },
   {
    "duration": 11,
    "start_time": "2022-02-28T12:56:44.740Z"
   },
   {
    "duration": 32,
    "start_time": "2022-02-28T12:56:44.753Z"
   },
   {
    "duration": 17,
    "start_time": "2022-02-28T12:56:44.788Z"
   },
   {
    "duration": 158,
    "start_time": "2022-02-28T12:56:44.809Z"
   },
   {
    "duration": 51,
    "start_time": "2022-02-28T12:56:44.969Z"
   },
   {
    "duration": 18,
    "start_time": "2022-02-28T12:56:45.022Z"
   },
   {
    "duration": 35,
    "start_time": "2022-02-28T12:56:45.043Z"
   },
   {
    "duration": 24,
    "start_time": "2022-02-28T12:56:45.080Z"
   },
   {
    "duration": 6,
    "start_time": "2022-02-28T12:56:45.106Z"
   },
   {
    "duration": 26,
    "start_time": "2022-02-28T12:56:45.114Z"
   },
   {
    "duration": 6,
    "start_time": "2022-02-28T12:56:45.143Z"
   },
   {
    "duration": 37,
    "start_time": "2022-02-28T12:56:45.151Z"
   },
   {
    "duration": 6,
    "start_time": "2022-02-28T12:56:45.191Z"
   },
   {
    "duration": 6,
    "start_time": "2022-02-28T12:56:45.200Z"
   },
   {
    "duration": 21,
    "start_time": "2022-02-28T12:56:45.209Z"
   },
   {
    "duration": 56,
    "start_time": "2022-02-28T12:56:45.232Z"
   },
   {
    "duration": 187,
    "start_time": "2022-02-28T12:56:45.290Z"
   },
   {
    "duration": 10,
    "start_time": "2022-02-28T12:56:45.480Z"
   },
   {
    "duration": 93,
    "start_time": "2022-02-28T12:56:45.492Z"
   },
   {
    "duration": 12,
    "start_time": "2022-02-28T12:56:45.588Z"
   },
   {
    "duration": 5,
    "start_time": "2022-02-28T12:56:45.602Z"
   },
   {
    "duration": 8,
    "start_time": "2022-02-28T12:56:45.611Z"
   },
   {
    "duration": 7,
    "start_time": "2022-02-28T12:56:45.621Z"
   },
   {
    "duration": 9,
    "start_time": "2022-02-28T12:56:45.631Z"
   },
   {
    "duration": 2720,
    "start_time": "2022-02-28T12:56:45.642Z"
   },
   {
    "duration": 2558,
    "start_time": "2022-02-28T12:56:48.364Z"
   },
   {
    "duration": 2520,
    "start_time": "2022-02-28T12:56:50.924Z"
   },
   {
    "duration": 3,
    "start_time": "2022-02-28T13:00:32.945Z"
   },
   {
    "duration": 7,
    "start_time": "2022-02-28T13:00:35.195Z"
   },
   {
    "duration": 2641,
    "start_time": "2022-02-28T13:00:36.024Z"
   },
   {
    "duration": 2678,
    "start_time": "2022-02-28T13:00:38.668Z"
   },
   {
    "duration": 2690,
    "start_time": "2022-02-28T13:00:41.349Z"
   },
   {
    "duration": 3,
    "start_time": "2022-02-28T13:01:17.508Z"
   },
   {
    "duration": 5,
    "start_time": "2022-02-28T13:01:18.879Z"
   },
   {
    "duration": 2556,
    "start_time": "2022-02-28T13:01:19.304Z"
   },
   {
    "duration": 1078,
    "start_time": "2022-02-28T13:03:22.732Z"
   },
   {
    "duration": 158,
    "start_time": "2022-02-28T13:03:23.813Z"
   },
   {
    "duration": 147,
    "start_time": "2022-02-28T13:03:23.976Z"
   },
   {
    "duration": 140,
    "start_time": "2022-02-28T13:03:24.125Z"
   },
   {
    "duration": 16,
    "start_time": "2022-02-28T13:03:24.267Z"
   },
   {
    "duration": 12,
    "start_time": "2022-02-28T13:03:24.285Z"
   },
   {
    "duration": 13,
    "start_time": "2022-02-28T13:03:24.301Z"
   },
   {
    "duration": 189,
    "start_time": "2022-02-28T13:03:24.317Z"
   },
   {
    "duration": 26,
    "start_time": "2022-02-28T13:03:24.509Z"
   },
   {
    "duration": 15,
    "start_time": "2022-02-28T13:03:24.537Z"
   },
   {
    "duration": 17,
    "start_time": "2022-02-28T13:03:24.577Z"
   },
   {
    "duration": 18,
    "start_time": "2022-02-28T13:03:24.596Z"
   },
   {
    "duration": 5,
    "start_time": "2022-02-28T13:03:24.616Z"
   },
   {
    "duration": 18,
    "start_time": "2022-02-28T13:03:24.622Z"
   },
   {
    "duration": 5,
    "start_time": "2022-02-28T13:03:24.642Z"
   },
   {
    "duration": 39,
    "start_time": "2022-02-28T13:03:24.649Z"
   },
   {
    "duration": 6,
    "start_time": "2022-02-28T13:03:24.689Z"
   },
   {
    "duration": 9,
    "start_time": "2022-02-28T13:03:24.697Z"
   },
   {
    "duration": 72,
    "start_time": "2022-02-28T13:03:24.708Z"
   },
   {
    "duration": 98,
    "start_time": "2022-02-28T13:03:24.783Z"
   },
   {
    "duration": 107,
    "start_time": "2022-02-28T13:03:24.883Z"
   },
   {
    "duration": 4,
    "start_time": "2022-02-28T13:03:25.080Z"
   },
   {
    "duration": 103,
    "start_time": "2022-02-28T13:03:25.087Z"
   },
   {
    "duration": 7,
    "start_time": "2022-02-28T13:03:25.192Z"
   },
   {
    "duration": 5,
    "start_time": "2022-02-28T13:03:25.201Z"
   },
   {
    "duration": 12,
    "start_time": "2022-02-28T13:03:25.208Z"
   },
   {
    "duration": 12,
    "start_time": "2022-02-28T13:03:25.222Z"
   },
   {
    "duration": 9,
    "start_time": "2022-02-28T13:03:25.236Z"
   },
   {
    "duration": 2845,
    "start_time": "2022-02-28T13:03:25.247Z"
   },
   {
    "duration": 2680,
    "start_time": "2022-02-28T13:03:28.094Z"
   },
   {
    "duration": 2555,
    "start_time": "2022-02-28T13:03:30.777Z"
   },
   {
    "duration": 1139,
    "start_time": "2022-02-28T13:09:28.056Z"
   },
   {
    "duration": 1644,
    "start_time": "2022-02-28T13:09:29.198Z"
   },
   {
    "duration": 350,
    "start_time": "2022-02-28T13:09:30.844Z"
   },
   {
    "duration": 139,
    "start_time": "2022-02-28T13:09:31.196Z"
   },
   {
    "duration": 11,
    "start_time": "2022-02-28T13:09:31.337Z"
   },
   {
    "duration": 16,
    "start_time": "2022-02-28T13:09:31.349Z"
   },
   {
    "duration": 20,
    "start_time": "2022-02-28T13:09:31.366Z"
   },
   {
    "duration": 139,
    "start_time": "2022-02-28T13:09:31.389Z"
   },
   {
    "duration": 26,
    "start_time": "2022-02-28T13:09:31.531Z"
   },
   {
    "duration": 26,
    "start_time": "2022-02-28T13:09:31.559Z"
   },
   {
    "duration": 14,
    "start_time": "2022-02-28T13:09:31.588Z"
   },
   {
    "duration": 17,
    "start_time": "2022-02-28T13:09:31.604Z"
   },
   {
    "duration": 5,
    "start_time": "2022-02-28T13:09:31.623Z"
   },
   {
    "duration": 15,
    "start_time": "2022-02-28T13:09:31.630Z"
   },
   {
    "duration": 31,
    "start_time": "2022-02-28T13:09:31.647Z"
   },
   {
    "duration": 18,
    "start_time": "2022-02-28T13:09:31.680Z"
   },
   {
    "duration": 6,
    "start_time": "2022-02-28T13:09:31.700Z"
   },
   {
    "duration": 6,
    "start_time": "2022-02-28T13:09:31.709Z"
   },
   {
    "duration": 62,
    "start_time": "2022-02-28T13:09:31.717Z"
   },
   {
    "duration": 98,
    "start_time": "2022-02-28T13:09:31.781Z"
   },
   {
    "duration": 107,
    "start_time": "2022-02-28T13:09:31.882Z"
   },
   {
    "duration": 5,
    "start_time": "2022-02-28T13:09:32.077Z"
   },
   {
    "duration": 99,
    "start_time": "2022-02-28T13:09:32.084Z"
   },
   {
    "duration": 11,
    "start_time": "2022-02-28T13:09:32.185Z"
   },
   {
    "duration": 4,
    "start_time": "2022-02-28T13:09:32.198Z"
   },
   {
    "duration": 14,
    "start_time": "2022-02-28T13:09:32.205Z"
   },
   {
    "duration": 8,
    "start_time": "2022-02-28T13:09:32.221Z"
   },
   {
    "duration": 10,
    "start_time": "2022-02-28T13:09:32.230Z"
   },
   {
    "duration": 2633,
    "start_time": "2022-02-28T13:09:32.241Z"
   },
   {
    "duration": 2598,
    "start_time": "2022-02-28T13:09:34.876Z"
   },
   {
    "duration": 2640,
    "start_time": "2022-02-28T13:09:37.476Z"
   },
   {
    "duration": 2580,
    "start_time": "2022-02-28T13:09:49.788Z"
   },
   {
    "duration": 2609,
    "start_time": "2022-02-28T13:09:52.369Z"
   },
   {
    "duration": 2642,
    "start_time": "2022-02-28T13:09:54.980Z"
   },
   {
    "duration": 4,
    "start_time": "2022-02-28T13:10:32.969Z"
   },
   {
    "duration": 4,
    "start_time": "2022-02-28T13:10:34.181Z"
   },
   {
    "duration": 2596,
    "start_time": "2022-02-28T13:10:34.581Z"
   },
   {
    "duration": 2594,
    "start_time": "2022-02-28T13:10:37.179Z"
   },
   {
    "duration": 2578,
    "start_time": "2022-02-28T13:10:39.775Z"
   },
   {
    "duration": 2551,
    "start_time": "2022-02-28T13:10:57.600Z"
   },
   {
    "duration": 2488,
    "start_time": "2022-02-28T13:15:52.558Z"
   },
   {
    "duration": 4,
    "start_time": "2022-02-28T13:17:17.384Z"
   },
   {
    "duration": 6,
    "start_time": "2022-02-28T13:17:19.952Z"
   },
   {
    "duration": 2638,
    "start_time": "2022-02-28T13:17:22.704Z"
   },
   {
    "duration": 2581,
    "start_time": "2022-02-28T13:17:25.344Z"
   },
   {
    "duration": 2511,
    "start_time": "2022-02-28T13:17:27.927Z"
   },
   {
    "duration": 2530,
    "start_time": "2022-02-28T13:43:04.573Z"
   },
   {
    "duration": 2519,
    "start_time": "2022-02-28T13:43:07.104Z"
   },
   {
    "duration": 2517,
    "start_time": "2022-02-28T13:50:44.199Z"
   },
   {
    "duration": 3,
    "start_time": "2022-02-28T13:52:47.294Z"
   },
   {
    "duration": 4,
    "start_time": "2022-02-28T13:52:48.357Z"
   },
   {
    "duration": 2463,
    "start_time": "2022-02-28T13:52:48.718Z"
   },
   {
    "duration": 2441,
    "start_time": "2022-02-28T13:52:51.183Z"
   },
   {
    "duration": 2468,
    "start_time": "2022-02-28T13:52:53.626Z"
   },
   {
    "duration": 5,
    "start_time": "2022-02-28T13:53:15.823Z"
   },
   {
    "duration": 3,
    "start_time": "2022-02-28T13:53:17.281Z"
   },
   {
    "duration": 4,
    "start_time": "2022-02-28T13:54:04.673Z"
   },
   {
    "duration": 4,
    "start_time": "2022-02-28T13:54:05.809Z"
   },
   {
    "duration": 2494,
    "start_time": "2022-02-28T13:54:06.141Z"
   },
   {
    "duration": 2531,
    "start_time": "2022-02-28T13:54:08.637Z"
   },
   {
    "duration": 2478,
    "start_time": "2022-02-28T13:54:11.170Z"
   },
   {
    "duration": 338,
    "start_time": "2022-02-28T13:59:01.174Z"
   },
   {
    "duration": 11,
    "start_time": "2022-02-28T13:59:17.708Z"
   },
   {
    "duration": 216,
    "start_time": "2022-02-28T14:01:55.959Z"
   },
   {
    "duration": 289,
    "start_time": "2022-02-28T14:02:07.693Z"
   },
   {
    "duration": 2491,
    "start_time": "2022-02-28T14:02:18.380Z"
   },
   {
    "duration": 2555,
    "start_time": "2022-02-28T14:02:28.623Z"
   },
   {
    "duration": 1146,
    "start_time": "2022-02-28T14:08:28.973Z"
   },
   {
    "duration": 166,
    "start_time": "2022-02-28T14:08:30.122Z"
   },
   {
    "duration": 150,
    "start_time": "2022-02-28T14:08:30.290Z"
   },
   {
    "duration": 142,
    "start_time": "2022-02-28T14:08:30.443Z"
   },
   {
    "duration": 11,
    "start_time": "2022-02-28T14:08:30.587Z"
   },
   {
    "duration": 19,
    "start_time": "2022-02-28T14:08:30.600Z"
   },
   {
    "duration": 20,
    "start_time": "2022-02-28T14:08:30.621Z"
   },
   {
    "duration": 143,
    "start_time": "2022-02-28T14:08:30.645Z"
   },
   {
    "duration": 29,
    "start_time": "2022-02-28T14:08:30.791Z"
   },
   {
    "duration": 15,
    "start_time": "2022-02-28T14:08:30.823Z"
   },
   {
    "duration": 45,
    "start_time": "2022-02-28T14:08:30.840Z"
   },
   {
    "duration": 21,
    "start_time": "2022-02-28T14:08:30.887Z"
   },
   {
    "duration": 16,
    "start_time": "2022-02-28T14:08:30.910Z"
   },
   {
    "duration": 24,
    "start_time": "2022-02-28T14:08:30.929Z"
   },
   {
    "duration": 8,
    "start_time": "2022-02-28T14:08:30.955Z"
   },
   {
    "duration": 28,
    "start_time": "2022-02-28T14:08:30.965Z"
   },
   {
    "duration": 9,
    "start_time": "2022-02-28T14:08:30.995Z"
   },
   {
    "duration": 6,
    "start_time": "2022-02-28T14:08:31.006Z"
   },
   {
    "duration": 67,
    "start_time": "2022-02-28T14:08:31.014Z"
   },
   {
    "duration": 110,
    "start_time": "2022-02-28T14:08:31.083Z"
   },
   {
    "duration": 189,
    "start_time": "2022-02-28T14:08:31.195Z"
   },
   {
    "duration": 93,
    "start_time": "2022-02-28T14:08:31.392Z"
   },
   {
    "duration": 4,
    "start_time": "2022-02-28T14:08:31.579Z"
   },
   {
    "duration": 8,
    "start_time": "2022-02-28T14:08:31.585Z"
   },
   {
    "duration": 12,
    "start_time": "2022-02-28T14:08:31.595Z"
   },
   {
    "duration": 10,
    "start_time": "2022-02-28T14:08:31.609Z"
   },
   {
    "duration": 5,
    "start_time": "2022-02-28T14:08:31.620Z"
   },
   {
    "duration": 345,
    "start_time": "2022-02-28T14:08:31.627Z"
   },
   {
    "duration": 39,
    "start_time": "2022-02-28T14:08:31.935Z"
   },
   {
    "duration": 32,
    "start_time": "2022-02-28T14:08:31.943Z"
   },
   {
    "duration": 29,
    "start_time": "2022-02-28T14:08:31.947Z"
   },
   {
    "duration": 21,
    "start_time": "2022-02-28T14:08:31.956Z"
   },
   {
    "duration": 213,
    "start_time": "2022-02-28T14:08:47.236Z"
   },
   {
    "duration": 220,
    "start_time": "2022-02-28T14:09:02.041Z"
   },
   {
    "duration": 11,
    "start_time": "2022-02-28T14:09:17.009Z"
   },
   {
    "duration": 7,
    "start_time": "2022-02-28T14:09:46.136Z"
   },
   {
    "duration": 12,
    "start_time": "2022-02-28T14:10:19.238Z"
   },
   {
    "duration": 8,
    "start_time": "2022-02-28T14:10:59.400Z"
   },
   {
    "duration": 5,
    "start_time": "2022-02-28T14:11:44.512Z"
   },
   {
    "duration": 9,
    "start_time": "2022-02-28T14:12:10.712Z"
   },
   {
    "duration": 9,
    "start_time": "2022-02-28T14:12:28.793Z"
   },
   {
    "duration": 6,
    "start_time": "2022-02-28T14:13:18.411Z"
   },
   {
    "duration": 245,
    "start_time": "2022-02-28T14:14:28.443Z"
   },
   {
    "duration": 8,
    "start_time": "2022-02-28T14:14:37.922Z"
   },
   {
    "duration": 7,
    "start_time": "2022-02-28T14:15:35.063Z"
   },
   {
    "duration": 7,
    "start_time": "2022-02-28T14:15:42.363Z"
   },
   {
    "duration": 8,
    "start_time": "2022-02-28T14:15:59.117Z"
   },
   {
    "duration": 1088,
    "start_time": "2022-02-28T14:34:10.907Z"
   },
   {
    "duration": 161,
    "start_time": "2022-02-28T14:34:11.997Z"
   },
   {
    "duration": 143,
    "start_time": "2022-02-28T14:34:12.160Z"
   },
   {
    "duration": 131,
    "start_time": "2022-02-28T14:34:12.305Z"
   },
   {
    "duration": 10,
    "start_time": "2022-02-28T14:34:12.438Z"
   },
   {
    "duration": 10,
    "start_time": "2022-02-28T14:34:12.449Z"
   },
   {
    "duration": 23,
    "start_time": "2022-02-28T14:34:12.460Z"
   },
   {
    "duration": 129,
    "start_time": "2022-02-28T14:34:12.486Z"
   },
   {
    "duration": 25,
    "start_time": "2022-02-28T14:34:12.617Z"
   },
   {
    "duration": 13,
    "start_time": "2022-02-28T14:34:12.643Z"
   },
   {
    "duration": 27,
    "start_time": "2022-02-28T14:34:12.658Z"
   },
   {
    "duration": 17,
    "start_time": "2022-02-28T14:34:12.687Z"
   },
   {
    "duration": 6,
    "start_time": "2022-02-28T14:34:12.706Z"
   },
   {
    "duration": 17,
    "start_time": "2022-02-28T14:34:12.713Z"
   },
   {
    "duration": 5,
    "start_time": "2022-02-28T14:34:12.732Z"
   },
   {
    "duration": 46,
    "start_time": "2022-02-28T14:34:12.739Z"
   },
   {
    "duration": 6,
    "start_time": "2022-02-28T14:34:12.787Z"
   },
   {
    "duration": 4,
    "start_time": "2022-02-28T14:34:12.795Z"
   },
   {
    "duration": 79,
    "start_time": "2022-02-28T14:34:12.800Z"
   },
   {
    "duration": 102,
    "start_time": "2022-02-28T14:34:12.882Z"
   },
   {
    "duration": 95,
    "start_time": "2022-02-28T14:34:12.986Z"
   },
   {
    "duration": 196,
    "start_time": "2022-02-28T14:34:13.083Z"
   },
   {
    "duration": 7,
    "start_time": "2022-02-28T14:34:13.282Z"
   },
   {
    "duration": 7,
    "start_time": "2022-02-28T14:34:13.291Z"
   },
   {
    "duration": 5,
    "start_time": "2022-02-28T14:34:13.299Z"
   },
   {
    "duration": 8,
    "start_time": "2022-02-28T14:34:13.306Z"
   },
   {
    "duration": 5,
    "start_time": "2022-02-28T14:34:13.315Z"
   },
   {
    "duration": 6,
    "start_time": "2022-02-28T14:34:13.321Z"
   },
   {
    "duration": 540,
    "start_time": "2022-02-28T14:34:13.328Z"
   },
   {
    "duration": 21,
    "start_time": "2022-02-28T14:34:13.849Z"
   },
   {
    "duration": 9,
    "start_time": "2022-02-28T14:34:13.862Z"
   },
   {
    "duration": 4,
    "start_time": "2022-02-28T14:34:33.295Z"
   },
   {
    "duration": 3359,
    "start_time": "2022-02-28T14:34:33.926Z"
   },
   {
    "duration": 3424,
    "start_time": "2022-02-28T14:34:39.407Z"
   },
   {
    "duration": 3445,
    "start_time": "2022-02-28T14:34:42.833Z"
   },
   {
    "duration": 1118,
    "start_time": "2022-02-28T14:37:34.774Z"
   },
   {
    "duration": 157,
    "start_time": "2022-02-28T14:37:35.894Z"
   },
   {
    "duration": 137,
    "start_time": "2022-02-28T14:37:36.054Z"
   },
   {
    "duration": 127,
    "start_time": "2022-02-28T14:37:36.194Z"
   },
   {
    "duration": 11,
    "start_time": "2022-02-28T14:37:36.323Z"
   },
   {
    "duration": 11,
    "start_time": "2022-02-28T14:37:36.336Z"
   },
   {
    "duration": 29,
    "start_time": "2022-02-28T14:37:36.349Z"
   },
   {
    "duration": 135,
    "start_time": "2022-02-28T14:37:36.380Z"
   },
   {
    "duration": 26,
    "start_time": "2022-02-28T14:37:36.519Z"
   },
   {
    "duration": 33,
    "start_time": "2022-02-28T14:37:36.548Z"
   },
   {
    "duration": 13,
    "start_time": "2022-02-28T14:37:36.584Z"
   },
   {
    "duration": 17,
    "start_time": "2022-02-28T14:37:36.599Z"
   },
   {
    "duration": 6,
    "start_time": "2022-02-28T14:37:36.617Z"
   },
   {
    "duration": 15,
    "start_time": "2022-02-28T14:37:36.625Z"
   },
   {
    "duration": 5,
    "start_time": "2022-02-28T14:37:36.642Z"
   },
   {
    "duration": 38,
    "start_time": "2022-02-28T14:37:36.648Z"
   },
   {
    "duration": 6,
    "start_time": "2022-02-28T14:37:36.688Z"
   },
   {
    "duration": 6,
    "start_time": "2022-02-28T14:37:36.696Z"
   },
   {
    "duration": 77,
    "start_time": "2022-02-28T14:37:36.704Z"
   },
   {
    "duration": 99,
    "start_time": "2022-02-28T14:37:36.784Z"
   },
   {
    "duration": 191,
    "start_time": "2022-02-28T14:37:36.886Z"
   },
   {
    "duration": 6,
    "start_time": "2022-02-28T14:37:37.080Z"
   },
   {
    "duration": 10,
    "start_time": "2022-02-28T14:37:37.178Z"
   },
   {
    "duration": 7,
    "start_time": "2022-02-28T14:37:37.190Z"
   },
   {
    "duration": 5,
    "start_time": "2022-02-28T14:37:37.199Z"
   },
   {
    "duration": 8,
    "start_time": "2022-02-28T14:37:37.205Z"
   },
   {
    "duration": 3,
    "start_time": "2022-02-28T14:37:37.216Z"
   },
   {
    "duration": 7,
    "start_time": "2022-02-28T14:37:37.221Z"
   },
   {
    "duration": 3353,
    "start_time": "2022-02-28T14:37:37.229Z"
   },
   {
    "duration": 3454,
    "start_time": "2022-02-28T14:37:40.584Z"
   },
   {
    "duration": 3431,
    "start_time": "2022-02-28T14:37:44.040Z"
   },
   {
    "duration": 1097,
    "start_time": "2022-02-28T14:43:40.357Z"
   },
   {
    "duration": 187,
    "start_time": "2022-02-28T14:43:41.456Z"
   },
   {
    "duration": 171,
    "start_time": "2022-02-28T14:43:41.646Z"
   },
   {
    "duration": 130,
    "start_time": "2022-02-28T14:43:41.819Z"
   },
   {
    "duration": 11,
    "start_time": "2022-02-28T14:43:41.951Z"
   },
   {
    "duration": 19,
    "start_time": "2022-02-28T14:43:41.964Z"
   },
   {
    "duration": 9,
    "start_time": "2022-02-28T14:43:41.985Z"
   },
   {
    "duration": 140,
    "start_time": "2022-02-28T14:43:41.997Z"
   },
   {
    "duration": 26,
    "start_time": "2022-02-28T14:43:42.139Z"
   },
   {
    "duration": 23,
    "start_time": "2022-02-28T14:43:42.166Z"
   },
   {
    "duration": 18,
    "start_time": "2022-02-28T14:43:42.191Z"
   },
   {
    "duration": 19,
    "start_time": "2022-02-28T14:43:42.210Z"
   },
   {
    "duration": 5,
    "start_time": "2022-02-28T14:43:42.231Z"
   },
   {
    "duration": 16,
    "start_time": "2022-02-28T14:43:42.238Z"
   },
   {
    "duration": 23,
    "start_time": "2022-02-28T14:43:42.255Z"
   },
   {
    "duration": 14,
    "start_time": "2022-02-28T14:43:42.280Z"
   },
   {
    "duration": 5,
    "start_time": "2022-02-28T14:43:42.295Z"
   },
   {
    "duration": 4,
    "start_time": "2022-02-28T14:43:42.302Z"
   },
   {
    "duration": 72,
    "start_time": "2022-02-28T14:43:42.308Z"
   },
   {
    "duration": 101,
    "start_time": "2022-02-28T14:43:42.383Z"
   },
   {
    "duration": 192,
    "start_time": "2022-02-28T14:43:42.487Z"
   },
   {
    "duration": 105,
    "start_time": "2022-02-28T14:43:42.682Z"
   },
   {
    "duration": 84,
    "start_time": "2022-02-28T14:43:42.793Z"
   },
   {
    "duration": 7,
    "start_time": "2022-02-28T14:43:42.879Z"
   },
   {
    "duration": 5,
    "start_time": "2022-02-28T14:43:42.887Z"
   },
   {
    "duration": 10,
    "start_time": "2022-02-28T14:43:42.894Z"
   },
   {
    "duration": 6,
    "start_time": "2022-02-28T14:43:42.906Z"
   },
   {
    "duration": 6,
    "start_time": "2022-02-28T14:43:42.914Z"
   },
   {
    "duration": 5,
    "start_time": "2022-02-28T14:43:42.923Z"
   },
   {
    "duration": 3563,
    "start_time": "2022-02-28T14:43:42.929Z"
   },
   {
    "duration": 571,
    "start_time": "2022-02-28T14:43:46.494Z"
   },
   {
    "duration": 81,
    "start_time": "2022-02-28T14:43:46.986Z"
   },
   {
    "duration": 79,
    "start_time": "2022-02-28T14:43:46.990Z"
   },
   {
    "duration": 4,
    "start_time": "2022-02-28T14:45:33.220Z"
   },
   {
    "duration": 3493,
    "start_time": "2022-02-28T14:45:34.636Z"
   },
   {
    "duration": 2235,
    "start_time": "2022-02-28T14:45:38.131Z"
   },
   {
    "duration": 3,
    "start_time": "2022-02-28T14:46:04.402Z"
   },
   {
    "duration": 3573,
    "start_time": "2022-02-28T14:46:05.285Z"
   },
   {
    "duration": 419,
    "start_time": "2022-02-28T14:46:08.867Z"
   },
   {
    "duration": 4,
    "start_time": "2022-02-28T14:46:50.638Z"
   },
   {
    "duration": 3310,
    "start_time": "2022-02-28T14:46:53.071Z"
   },
   {
    "duration": 434,
    "start_time": "2022-02-28T14:46:56.383Z"
   },
   {
    "duration": 4,
    "start_time": "2022-02-28T14:47:13.760Z"
   },
   {
    "duration": 3397,
    "start_time": "2022-02-28T14:47:14.867Z"
   },
   {
    "duration": 10,
    "start_time": "2022-02-28T14:47:18.266Z"
   },
   {
    "duration": 3,
    "start_time": "2022-02-28T14:48:11.311Z"
   },
   {
    "duration": 3328,
    "start_time": "2022-02-28T14:48:11.725Z"
   },
   {
    "duration": 5,
    "start_time": "2022-02-28T14:48:15.055Z"
   },
   {
    "duration": 279,
    "start_time": "2022-02-28T14:50:25.422Z"
   },
   {
    "duration": 6,
    "start_time": "2022-02-28T14:54:57.055Z"
   },
   {
    "duration": 7,
    "start_time": "2022-02-28T14:55:18.630Z"
   },
   {
    "duration": 7,
    "start_time": "2022-02-28T14:57:47.149Z"
   },
   {
    "duration": 3538,
    "start_time": "2022-02-28T14:58:29.661Z"
   },
   {
    "duration": 3,
    "start_time": "2022-02-28T14:58:47.419Z"
   },
   {
    "duration": 6,
    "start_time": "2022-02-28T14:59:09.837Z"
   },
   {
    "duration": 3,
    "start_time": "2022-02-28T14:59:23.461Z"
   },
   {
    "duration": 7,
    "start_time": "2022-02-28T14:59:23.833Z"
   },
   {
    "duration": 1164,
    "start_time": "2022-02-28T14:59:38.810Z"
   },
   {
    "duration": 163,
    "start_time": "2022-02-28T14:59:39.976Z"
   },
   {
    "duration": 147,
    "start_time": "2022-02-28T14:59:40.141Z"
   },
   {
    "duration": 137,
    "start_time": "2022-02-28T14:59:40.291Z"
   },
   {
    "duration": 11,
    "start_time": "2022-02-28T14:59:40.430Z"
   },
   {
    "duration": 11,
    "start_time": "2022-02-28T14:59:40.442Z"
   },
   {
    "duration": 30,
    "start_time": "2022-02-28T14:59:40.454Z"
   },
   {
    "duration": 133,
    "start_time": "2022-02-28T14:59:40.487Z"
   },
   {
    "duration": 28,
    "start_time": "2022-02-28T14:59:40.623Z"
   },
   {
    "duration": 28,
    "start_time": "2022-02-28T14:59:40.652Z"
   },
   {
    "duration": 16,
    "start_time": "2022-02-28T14:59:40.681Z"
   },
   {
    "duration": 17,
    "start_time": "2022-02-28T14:59:40.699Z"
   },
   {
    "duration": 7,
    "start_time": "2022-02-28T14:59:40.718Z"
   },
   {
    "duration": 20,
    "start_time": "2022-02-28T14:59:40.727Z"
   },
   {
    "duration": 28,
    "start_time": "2022-02-28T14:59:40.749Z"
   },
   {
    "duration": 14,
    "start_time": "2022-02-28T14:59:40.779Z"
   },
   {
    "duration": 9,
    "start_time": "2022-02-28T14:59:40.795Z"
   },
   {
    "duration": 7,
    "start_time": "2022-02-28T14:59:40.806Z"
   },
   {
    "duration": 67,
    "start_time": "2022-02-28T14:59:40.815Z"
   },
   {
    "duration": 11,
    "start_time": "2022-02-28T14:59:40.977Z"
   },
   {
    "duration": 190,
    "start_time": "2022-02-28T14:59:40.991Z"
   },
   {
    "duration": 95,
    "start_time": "2022-02-28T14:59:41.184Z"
   },
   {
    "duration": 97,
    "start_time": "2022-02-28T14:59:41.284Z"
   },
   {
    "duration": 6,
    "start_time": "2022-02-28T14:59:41.383Z"
   },
   {
    "duration": 5,
    "start_time": "2022-02-28T14:59:41.391Z"
   },
   {
    "duration": 7,
    "start_time": "2022-02-28T14:59:41.397Z"
   },
   {
    "duration": 4,
    "start_time": "2022-02-28T14:59:41.406Z"
   },
   {
    "duration": 7,
    "start_time": "2022-02-28T14:59:41.412Z"
   },
   {
    "duration": 12,
    "start_time": "2022-02-28T14:59:41.421Z"
   },
   {
    "duration": 3695,
    "start_time": "2022-02-28T14:59:41.434Z"
   },
   {
    "duration": 6,
    "start_time": "2022-02-28T14:59:45.131Z"
   },
   {
    "duration": 305,
    "start_time": "2022-02-28T14:59:45.139Z"
   },
   {
    "duration": 2,
    "start_time": "2022-02-28T14:59:45.446Z"
   },
   {
    "duration": 9,
    "start_time": "2022-02-28T14:59:45.450Z"
   },
   {
    "duration": 3697,
    "start_time": "2022-02-28T14:59:45.477Z"
   },
   {
    "duration": 3588,
    "start_time": "2022-02-28T14:59:49.176Z"
   },
   {
    "duration": 1072,
    "start_time": "2022-02-28T15:24:12.533Z"
   },
   {
    "duration": 154,
    "start_time": "2022-02-28T15:24:13.607Z"
   },
   {
    "duration": 144,
    "start_time": "2022-02-28T15:24:13.763Z"
   },
   {
    "duration": 139,
    "start_time": "2022-02-28T15:24:13.909Z"
   },
   {
    "duration": 11,
    "start_time": "2022-02-28T15:24:14.050Z"
   },
   {
    "duration": 22,
    "start_time": "2022-02-28T15:24:14.062Z"
   },
   {
    "duration": 10,
    "start_time": "2022-02-28T15:24:14.085Z"
   },
   {
    "duration": 157,
    "start_time": "2022-02-28T15:24:14.097Z"
   },
   {
    "duration": 33,
    "start_time": "2022-02-28T15:24:14.257Z"
   },
   {
    "duration": 14,
    "start_time": "2022-02-28T15:24:14.292Z"
   },
   {
    "duration": 16,
    "start_time": "2022-02-28T15:24:14.308Z"
   },
   {
    "duration": 21,
    "start_time": "2022-02-28T15:24:14.326Z"
   },
   {
    "duration": 7,
    "start_time": "2022-02-28T15:24:14.349Z"
   },
   {
    "duration": 33,
    "start_time": "2022-02-28T15:24:14.357Z"
   },
   {
    "duration": 6,
    "start_time": "2022-02-28T15:24:14.392Z"
   },
   {
    "duration": 15,
    "start_time": "2022-02-28T15:24:14.399Z"
   },
   {
    "duration": 5,
    "start_time": "2022-02-28T15:24:14.416Z"
   },
   {
    "duration": 4,
    "start_time": "2022-02-28T15:24:14.423Z"
   },
   {
    "duration": 51,
    "start_time": "2022-02-28T15:24:14.429Z"
   },
   {
    "duration": 106,
    "start_time": "2022-02-28T15:24:14.482Z"
   },
   {
    "duration": 91,
    "start_time": "2022-02-28T15:24:14.591Z"
   },
   {
    "duration": 194,
    "start_time": "2022-02-28T15:24:14.685Z"
   },
   {
    "duration": 4,
    "start_time": "2022-02-28T15:24:14.880Z"
   },
   {
    "duration": 7,
    "start_time": "2022-02-28T15:24:14.885Z"
   },
   {
    "duration": 5,
    "start_time": "2022-02-28T15:24:14.894Z"
   },
   {
    "duration": 7,
    "start_time": "2022-02-28T15:24:14.901Z"
   },
   {
    "duration": 3,
    "start_time": "2022-02-28T15:24:14.911Z"
   },
   {
    "duration": 6,
    "start_time": "2022-02-28T15:24:14.916Z"
   },
   {
    "duration": 8,
    "start_time": "2022-02-28T15:24:14.924Z"
   },
   {
    "duration": 3387,
    "start_time": "2022-02-28T15:24:14.934Z"
   },
   {
    "duration": 6,
    "start_time": "2022-02-28T15:24:18.323Z"
   },
   {
    "duration": 290,
    "start_time": "2022-02-28T15:24:18.331Z"
   },
   {
    "duration": 2,
    "start_time": "2022-02-28T15:24:18.623Z"
   },
   {
    "duration": 9,
    "start_time": "2022-02-28T15:24:18.627Z"
   },
   {
    "duration": 3399,
    "start_time": "2022-02-28T15:24:18.637Z"
   },
   {
    "duration": 3352,
    "start_time": "2022-02-28T15:24:22.037Z"
   },
   {
    "duration": 6,
    "start_time": "2022-02-28T15:25:05.742Z"
   },
   {
    "duration": 9,
    "start_time": "2022-02-28T15:25:43.531Z"
   },
   {
    "duration": 340,
    "start_time": "2022-02-28T15:26:15.664Z"
   },
   {
    "duration": 221,
    "start_time": "2022-02-28T15:26:24.415Z"
   },
   {
    "duration": 216,
    "start_time": "2022-02-28T15:26:32.085Z"
   },
   {
    "duration": 8,
    "start_time": "2022-02-28T15:27:05.093Z"
   },
   {
    "duration": 6,
    "start_time": "2022-02-28T15:27:28.422Z"
   },
   {
    "duration": 210,
    "start_time": "2022-02-28T15:27:51.994Z"
   },
   {
    "duration": 1156,
    "start_time": "2022-02-28T15:35:57.860Z"
   },
   {
    "duration": 153,
    "start_time": "2022-02-28T15:35:59.018Z"
   },
   {
    "duration": 143,
    "start_time": "2022-02-28T15:35:59.178Z"
   },
   {
    "duration": 136,
    "start_time": "2022-02-28T15:35:59.323Z"
   },
   {
    "duration": 10,
    "start_time": "2022-02-28T15:35:59.460Z"
   },
   {
    "duration": 18,
    "start_time": "2022-02-28T15:35:59.472Z"
   },
   {
    "duration": 18,
    "start_time": "2022-02-28T15:35:59.492Z"
   },
   {
    "duration": 124,
    "start_time": "2022-02-28T15:35:59.512Z"
   },
   {
    "duration": 25,
    "start_time": "2022-02-28T15:35:59.639Z"
   },
   {
    "duration": 13,
    "start_time": "2022-02-28T15:35:59.678Z"
   },
   {
    "duration": 26,
    "start_time": "2022-02-28T15:35:59.693Z"
   },
   {
    "duration": 26,
    "start_time": "2022-02-28T15:35:59.720Z"
   },
   {
    "duration": 7,
    "start_time": "2022-02-28T15:35:59.748Z"
   },
   {
    "duration": 19,
    "start_time": "2022-02-28T15:35:59.757Z"
   },
   {
    "duration": 5,
    "start_time": "2022-02-28T15:35:59.777Z"
   },
   {
    "duration": 26,
    "start_time": "2022-02-28T15:35:59.784Z"
   },
   {
    "duration": 13,
    "start_time": "2022-02-28T15:35:59.811Z"
   },
   {
    "duration": 11,
    "start_time": "2022-02-28T15:35:59.826Z"
   },
   {
    "duration": 41,
    "start_time": "2022-02-28T15:35:59.839Z"
   },
   {
    "duration": 197,
    "start_time": "2022-02-28T15:35:59.882Z"
   },
   {
    "duration": 197,
    "start_time": "2022-02-28T15:36:00.082Z"
   },
   {
    "duration": 100,
    "start_time": "2022-02-28T15:36:00.283Z"
   },
   {
    "duration": 20,
    "start_time": "2022-02-28T15:36:00.385Z"
   },
   {
    "duration": 14,
    "start_time": "2022-02-28T15:36:00.407Z"
   },
   {
    "duration": 21,
    "start_time": "2022-02-28T15:36:00.423Z"
   },
   {
    "duration": 17,
    "start_time": "2022-02-28T15:36:00.446Z"
   },
   {
    "duration": 19,
    "start_time": "2022-02-28T15:36:00.466Z"
   },
   {
    "duration": 20,
    "start_time": "2022-02-28T15:36:00.488Z"
   },
   {
    "duration": 38,
    "start_time": "2022-02-28T15:36:00.510Z"
   },
   {
    "duration": 3522,
    "start_time": "2022-02-28T15:36:00.550Z"
   },
   {
    "duration": 7,
    "start_time": "2022-02-28T15:36:04.074Z"
   },
   {
    "duration": 304,
    "start_time": "2022-02-28T15:36:04.082Z"
   },
   {
    "duration": 3,
    "start_time": "2022-02-28T15:36:04.388Z"
   },
   {
    "duration": 14,
    "start_time": "2022-02-28T15:36:04.392Z"
   },
   {
    "duration": 3553,
    "start_time": "2022-02-28T15:36:04.408Z"
   },
   {
    "duration": 6,
    "start_time": "2022-02-28T15:36:07.962Z"
   },
   {
    "duration": 7,
    "start_time": "2022-02-28T15:36:07.977Z"
   },
   {
    "duration": 234,
    "start_time": "2022-02-28T15:36:07.986Z"
   },
   {
    "duration": 3367,
    "start_time": "2022-02-28T15:36:08.222Z"
   },
   {
    "duration": 5,
    "start_time": "2022-02-28T15:36:11.591Z"
   },
   {
    "duration": 6,
    "start_time": "2022-02-28T15:36:11.598Z"
   },
   {
    "duration": 221,
    "start_time": "2022-02-28T15:36:11.605Z"
   },
   {
    "duration": 1204,
    "start_time": "2022-02-28T15:36:14.962Z"
   },
   {
    "duration": 153,
    "start_time": "2022-02-28T15:36:16.168Z"
   },
   {
    "duration": 140,
    "start_time": "2022-02-28T15:36:16.323Z"
   },
   {
    "duration": 132,
    "start_time": "2022-02-28T15:36:16.465Z"
   },
   {
    "duration": 10,
    "start_time": "2022-02-28T15:36:16.599Z"
   },
   {
    "duration": 10,
    "start_time": "2022-02-28T15:36:16.610Z"
   },
   {
    "duration": 10,
    "start_time": "2022-02-28T15:36:16.622Z"
   },
   {
    "duration": 144,
    "start_time": "2022-02-28T15:36:16.634Z"
   },
   {
    "duration": 27,
    "start_time": "2022-02-28T15:36:16.780Z"
   },
   {
    "duration": 13,
    "start_time": "2022-02-28T15:36:16.809Z"
   },
   {
    "duration": 12,
    "start_time": "2022-02-28T15:36:16.824Z"
   },
   {
    "duration": 39,
    "start_time": "2022-02-28T15:36:16.838Z"
   },
   {
    "duration": 5,
    "start_time": "2022-02-28T15:36:16.879Z"
   },
   {
    "duration": 25,
    "start_time": "2022-02-28T15:36:16.886Z"
   },
   {
    "duration": 5,
    "start_time": "2022-02-28T15:36:16.913Z"
   },
   {
    "duration": 15,
    "start_time": "2022-02-28T15:36:16.920Z"
   },
   {
    "duration": 16,
    "start_time": "2022-02-28T15:36:16.936Z"
   },
   {
    "duration": 14,
    "start_time": "2022-02-28T15:36:16.954Z"
   },
   {
    "duration": 31,
    "start_time": "2022-02-28T15:36:16.970Z"
   },
   {
    "duration": 79,
    "start_time": "2022-02-28T15:36:17.003Z"
   },
   {
    "duration": 198,
    "start_time": "2022-02-28T15:36:17.088Z"
   },
   {
    "duration": 5,
    "start_time": "2022-02-28T15:36:17.289Z"
   },
   {
    "duration": 104,
    "start_time": "2022-02-28T15:36:17.378Z"
   },
   {
    "duration": 7,
    "start_time": "2022-02-28T15:36:17.484Z"
   },
   {
    "duration": 6,
    "start_time": "2022-02-28T15:36:17.492Z"
   },
   {
    "duration": 7,
    "start_time": "2022-02-28T15:36:17.499Z"
   },
   {
    "duration": 3,
    "start_time": "2022-02-28T15:36:17.509Z"
   },
   {
    "duration": 5,
    "start_time": "2022-02-28T15:36:17.514Z"
   },
   {
    "duration": 8,
    "start_time": "2022-02-28T15:36:17.520Z"
   },
   {
    "duration": 3401,
    "start_time": "2022-02-28T15:36:17.530Z"
   },
   {
    "duration": 7,
    "start_time": "2022-02-28T15:36:20.934Z"
   },
   {
    "duration": 296,
    "start_time": "2022-02-28T15:36:20.943Z"
   },
   {
    "duration": 3,
    "start_time": "2022-02-28T15:36:21.241Z"
   },
   {
    "duration": 13,
    "start_time": "2022-02-28T15:36:21.246Z"
   },
   {
    "duration": 3376,
    "start_time": "2022-02-28T15:36:21.261Z"
   },
   {
    "duration": 5,
    "start_time": "2022-02-28T15:36:24.638Z"
   },
   {
    "duration": 13,
    "start_time": "2022-02-28T15:36:24.645Z"
   },
   {
    "duration": 214,
    "start_time": "2022-02-28T15:36:24.659Z"
   },
   {
    "duration": 3391,
    "start_time": "2022-02-28T15:36:24.876Z"
   },
   {
    "duration": 10,
    "start_time": "2022-02-28T15:36:28.269Z"
   },
   {
    "duration": 9,
    "start_time": "2022-02-28T15:36:28.280Z"
   },
   {
    "duration": 216,
    "start_time": "2022-02-28T15:36:28.291Z"
   },
   {
    "duration": 1090,
    "start_time": "2022-02-28T15:40:00.042Z"
   },
   {
    "duration": 166,
    "start_time": "2022-02-28T15:40:01.134Z"
   },
   {
    "duration": 153,
    "start_time": "2022-02-28T15:40:01.303Z"
   },
   {
    "duration": 143,
    "start_time": "2022-02-28T15:40:01.458Z"
   },
   {
    "duration": 11,
    "start_time": "2022-02-28T15:40:01.603Z"
   },
   {
    "duration": 21,
    "start_time": "2022-02-28T15:40:01.616Z"
   },
   {
    "duration": 13,
    "start_time": "2022-02-28T15:40:01.639Z"
   },
   {
    "duration": 160,
    "start_time": "2022-02-28T15:40:01.655Z"
   },
   {
    "duration": 33,
    "start_time": "2022-02-28T15:40:01.818Z"
   },
   {
    "duration": 33,
    "start_time": "2022-02-28T15:40:01.854Z"
   },
   {
    "duration": 21,
    "start_time": "2022-02-28T15:40:01.889Z"
   },
   {
    "duration": 25,
    "start_time": "2022-02-28T15:40:01.913Z"
   },
   {
    "duration": 7,
    "start_time": "2022-02-28T15:40:01.940Z"
   },
   {
    "duration": 32,
    "start_time": "2022-02-28T15:40:01.949Z"
   },
   {
    "duration": 7,
    "start_time": "2022-02-28T15:40:01.984Z"
   },
   {
    "duration": 21,
    "start_time": "2022-02-28T15:40:01.993Z"
   },
   {
    "duration": 11,
    "start_time": "2022-02-28T15:40:02.016Z"
   },
   {
    "duration": 29,
    "start_time": "2022-02-28T15:40:02.029Z"
   },
   {
    "duration": 36,
    "start_time": "2022-02-28T15:40:02.061Z"
   },
   {
    "duration": 187,
    "start_time": "2022-02-28T15:40:02.099Z"
   },
   {
    "duration": 191,
    "start_time": "2022-02-28T15:40:02.289Z"
   },
   {
    "duration": 100,
    "start_time": "2022-02-28T15:40:02.482Z"
   },
   {
    "duration": 4,
    "start_time": "2022-02-28T15:40:02.588Z"
   },
   {
    "duration": 12,
    "start_time": "2022-02-28T15:40:02.594Z"
   },
   {
    "duration": 72,
    "start_time": "2022-02-28T15:40:02.608Z"
   },
   {
    "duration": 9,
    "start_time": "2022-02-28T15:40:02.682Z"
   },
   {
    "duration": 7,
    "start_time": "2022-02-28T15:40:02.693Z"
   },
   {
    "duration": 8,
    "start_time": "2022-02-28T15:40:02.702Z"
   },
   {
    "duration": 10,
    "start_time": "2022-02-28T15:40:02.712Z"
   },
   {
    "duration": 3611,
    "start_time": "2022-02-28T15:40:02.723Z"
   },
   {
    "duration": 6,
    "start_time": "2022-02-28T15:40:06.335Z"
   },
   {
    "duration": 327,
    "start_time": "2022-02-28T15:40:06.343Z"
   },
   {
    "duration": 5,
    "start_time": "2022-02-28T15:40:06.672Z"
   },
   {
    "duration": 11,
    "start_time": "2022-02-28T15:40:06.679Z"
   },
   {
    "duration": 3558,
    "start_time": "2022-02-28T15:40:06.692Z"
   },
   {
    "duration": 5,
    "start_time": "2022-02-28T15:40:10.252Z"
   },
   {
    "duration": 20,
    "start_time": "2022-02-28T15:40:10.259Z"
   },
   {
    "duration": 232,
    "start_time": "2022-02-28T15:40:10.281Z"
   },
   {
    "duration": 3602,
    "start_time": "2022-02-28T15:40:10.515Z"
   },
   {
    "duration": 7,
    "start_time": "2022-02-28T15:40:14.119Z"
   },
   {
    "duration": 8,
    "start_time": "2022-02-28T15:40:14.128Z"
   },
   {
    "duration": 246,
    "start_time": "2022-02-28T15:40:14.138Z"
   }
  ],
  "kernelspec": {
   "display_name": "Python 3",
   "language": "python",
   "name": "python3"
  },
  "language_info": {
   "codemirror_mode": {
    "name": "ipython",
    "version": 3
   },
   "file_extension": ".py",
   "mimetype": "text/x-python",
   "name": "python",
   "nbconvert_exporter": "python",
   "pygments_lexer": "ipython3",
   "version": "3.8.8"
  },
  "toc": {
   "base_numbering": 1,
   "nav_menu": {},
   "number_sections": true,
   "sideBar": true,
   "skip_h1_title": true,
   "title_cell": "Table of Contents",
   "title_sidebar": "Contents",
   "toc_cell": false,
   "toc_position": {},
   "toc_section_display": true,
   "toc_window_display": false
  }
 },
 "nbformat": 4,
 "nbformat_minor": 2
}
